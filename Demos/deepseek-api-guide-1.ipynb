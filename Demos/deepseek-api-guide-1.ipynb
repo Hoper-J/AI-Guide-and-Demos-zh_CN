{
 "cells": [
  {
   "cell_type": "markdown",
   "id": "8d3a258b-42f8-411b-8c76-fd3d6e2a2972",
   "metadata": {},
   "source": [
    "# DeepSeek API 的获取与对话示例\n",
    "\n",
    "> 指导文章：[DeepSeek API 的获取与对话示例](https://github.com/Hoper-J/AI-Guide-and-Demos-zh_CN/blob/master/Guide/DeepSeek%20API%20的获取与对话示例.md)\n",
    "\n",
    "在线链接：[Kaggle](https://www.kaggle.com/code/aidemos/deepseek-api-guide-1) | [Colab](https://colab.research.google.com/drive/1rdBEJT_oOxaScm3_10epoHX_TdbSm1Ty?usp=sharing)"
   ]
  },
  {
   "cell_type": "markdown",
   "id": "e4ca474a-7b50-4843-8d64-7f74de67775c",
   "metadata": {},
   "source": [
    "## 环境依赖"
   ]
  },
  {
   "cell_type": "code",
   "execution_count": null,
   "id": "23cf948e-bd6d-4af0-973d-8ff8f78f9490",
   "metadata": {},
   "outputs": [],
   "source": "!uv add openai"
  },
  {
   "cell_type": "markdown",
   "id": "f8aaf4f3-8ca8-402c-abd3-de290efe0231",
   "metadata": {},
   "source": [
    "## 获取 API\n",
    "\n",
    "> ~~因为被攻击的原因，官方 API 平台可能会暂时无法注册，本文提供可替代的解决方案。~~\n",
    ">\n",
    "> 撰写文章时发现 DeepSeek API 创建已恢复正常，不过箭在弦上，其余平台的解决方案也同时提供。\n",
    "\n",
    "**不同平台参数对照表**：\n",
    "\n",
    "|              | api_key_name          | base_url                                            | chat_model_id             | reasoner_model_id         |\n",
    "| ------------ | --------------------- | --------------------------------------------------- | ------------------------- | ------------------------- |\n",
    "| DeepSeek     | \"DEEPSEEK_API_KEY\"    | \"https://api.deepseek.com\"                          | \"deepseek-chat\"           | \"deepseek-reasoner\"       |\n",
    "| 硅基流动     | \"SILICONFLOW_API_KEY\" | \"https://api.siliconflow.cn/v1\"                     | \"deepseek-ai/DeepSeek-V3\" | \"deepseek-ai/DeepSeek-R1\" |\n",
    "| 阿里云百炼   | \"DASHSCOPE_API_KEY\"   | \"https://dashscope.aliyuncs.com/compatible-mode/v1\" | \"deepseek-v3\"             | \"deepseek-r1\"             |\n",
    "| 百度智能云   | \"BAIDU_API_KEY\"       | \"https://qianfan.baidubce.com/v2\"                   | \"deepseek-v3\"             | \"deepseek-r1\"             |\n",
    "| 字节火山引擎 | \"ARK_API_KEY\"         | \"https://ark.cn-beijing.volces.com/api/v3\"          | \"deepseek-v3-241226\"      | \"deepseek-r1-250120\"  |\n",
    "\n",
    "参数说明：\n",
    "\n",
    "- `api_key_name`：环境变量名称。\n",
    "- `base_url`：API 请求地址。\n",
    "- `chat_model_id`：对话模型标识。\n",
    "- `reasoner_model_id`：推理模型标识。\n",
    "\n",
    "从下方选择一个平台继续，点击被 `hidden` 的块。"
   ]
  },
  {
   "cell_type": "markdown",
   "id": "a1ea135f-0bf0-4bba-a5ca-1230a5882d89",
   "metadata": {},
   "source": [
    "### DeepSeek 官方 "
   ]
  },
  {
   "cell_type": "markdown",
   "id": "8151dcbe-d9dd-4601-a3db-81cc39fee21c",
   "metadata": {},
   "source": [
    "访问 [https://platform.deepseek.com/sign_in](https://platform.deepseek.com/sign_in) 进行注册并登录：\n",
    "\n",
    "![image-20250127163553505](../Guide/assets/20250127180653.png)\n",
    "\n",
    "新用户注册后将赠送 10 块钱余额，有效期为一个月：\n",
    "\n",
    "![image-20250127163652668](../Guide/assets/20250127180649.png)\n",
    "\n",
    "点击左侧的 `API keys`（或者访问 [https://platform.deepseek.com/api_keys](https://platform.deepseek.com/api_keys)），然后点击 `创建 API key:`\n",
    "\n",
    "![image-20250127163951485](../Guide/assets/20250127180645.png)\n",
    "\n",
    "命名，然后点击 `创建`：\n",
    "\n",
    "![image-20250127164057495](../Guide/assets/20250127180643.png)\n",
    "\n",
    "与其他平台不同的是，DeepSeek 的 API 仅在创建时显示，你可能需要记录它，点击 `复制`：\n",
    "\n",
    "![image-20250127164159136](../Guide/assets/20250127180641.png)"
   ]
  },
  {
   "cell_type": "markdown",
   "id": "456a092e-c878-4f24-973e-e493762edea2",
   "metadata": {},
   "source": [
    "#### 代码示例"
   ]
  },
  {
   "cell_type": "code",
   "execution_count": null,
   "id": "97a9957b-fbe0-4be4-b0a6-9d617ae8d7be",
   "metadata": {},
   "outputs": [],
   "source": [
    "from openai import OpenAI\n",
    "import os\n",
    "\n",
    "# 临时环境变量配置\n",
    "os.environ[\"DEEPSEEK_API_KEY\"] = \"your-api-key\" # 1\n",
    "\n",
    "client = OpenAI(\n",
    "    api_key=os.getenv(\"DEEPSEEK_API_KEY\"),\n",
    "    base_url=\"https://api.deepseek.com\", # 2\n",
    ")\n",
    "\n",
    "# 单轮对话示例\n",
    "response = client.chat.completions.create(\n",
    "    model=\"deepseek-chat\", # 3\n",
    "    messages=[\n",
    "        {'role': 'system', 'content': 'You are a helpful assistant.'},\n",
    "        {'role': 'user', 'content': '你是谁？'}\n",
    "    ]\n",
    ")\n",
    "\n",
    "# 打印模型回复内容\n",
    "print(response.choices[0].message.content)"
   ]
  },
  {
   "cell_type": "markdown",
   "id": "c79957af-6475-4991-92ee-2f6f642773e1",
   "metadata": {
    "jp-MarkdownHeadingCollapsed": true
   },
   "source": [
    "### 硅基流动"
   ]
  },
  {
   "cell_type": "markdown",
   "id": "f9acf3c0-607a-498d-a357-5fcb3ffb883f",
   "metadata": {},
   "source": [
    "> 下方硅基流动的邀请链接附带邀请码，最终因邀请所产生的每 2000 万 tokens 将被用于共享，预计在 [Discussions](https://github.com/Hoper-J/AI-Guide-and-Demos-zh_CN/discussions) 中免费示出用于学习。\n",
    "\n",
    "访问 [https://cloud.siliconflow.cn/i/ofzj9IQy](https://cloud.siliconflow.cn/i/ofzj9IQy) 进行注册并登录：\n",
    "\n",
    "![注册/登录](../Guide/assets/image-20250205221933350.png)\n",
    "\n",
    "点击[体验中心](https://cloud.siliconflow.cn/account/ak)左侧的 `API 密钥`，然后点击 `新建 API 密钥`：\n",
    "\n",
    "![新建 API 密钥](../Guide/assets/image-20250205222644044.png)\n",
    "\n",
    "随意填写描述后点击 `新建密钥`：\n",
    "\n",
    "![填写描述](../Guide/assets/image-20250205222732771.png)\n",
    "\n",
    "直接点击密钥进行复制，这就是我们即将用到的 API KEY：\n",
    "\n",
    "![复制密钥](../Guide/assets/image-20250205222837349.png)"
   ]
  },
  {
   "cell_type": "markdown",
   "id": "bcca8d17-b809-4742-97b9-6ceef73e7a4d",
   "metadata": {},
   "source": [
    "#### 代码示例"
   ]
  },
  {
   "cell_type": "code",
   "execution_count": null,
   "id": "87d9654d-7f00-42d6-9416-e25a70585ff1",
   "metadata": {
    "scrolled": true
   },
   "outputs": [],
   "source": [
    "from openai import OpenAI\n",
    "import os\n",
    "\n",
    "# 临时环境变量配置\n",
    "os.environ[\"SILICONFLOW_API_KEY\"] = \"your-api-key\" # 1\n",
    "\n",
    "client = OpenAI(\n",
    "    api_key=os.getenv(\"SILICONFLOW_API_KEY\"),\n",
    "    base_url=\"https://api.siliconflow.cn/v1\", # 2\n",
    ")\n",
    "\n",
    "# 单轮对话示例\n",
    "response = client.chat.completions.create(\n",
    "    model=\"deepseek-ai/DeepSeek-V3\", # 3\n",
    "    messages=[\n",
    "        {'role': 'system', 'content': 'You are a helpful assistant.'},\n",
    "        {'role': 'user', 'content': '你是谁？'}\n",
    "    ]\n",
    ")\n",
    "\n",
    "# 打印模型回复内容\n",
    "print(response.choices[0].message.content)"
   ]
  },
  {
   "cell_type": "markdown",
   "id": "65748d7b-88fe-4573-99f5-d0497dc470a6",
   "metadata": {
    "jp-MarkdownHeadingCollapsed": true
   },
   "source": [
    "### 阿里云百炼 "
   ]
  },
  {
   "cell_type": "markdown",
   "id": "4a5f4571-35c5-44f0-81f1-8453a3efa2b5",
   "metadata": {},
   "source": [
    "访问 [阿里云百炼控制台](https://bailian.console.aliyun.com) 注册并登录。\n",
    "\n",
    "![注册](../Guide/assets/image-20250205181432735.png)\n",
    "\n",
    "在注册后将获取 1000 万的免费额度，有效期为半年，可以用于 DeepSeek-V3 和 DeepSeek-R1。\n",
    "\n",
    "![DeepSeek-V3](../Guide/assets/image-20250205172736707.png)\n",
    "\n",
    "> **注意**：目前仅供免费体验，免费额度用完之后不可继续调用（个人使用可以忽略）\n",
    "\n",
    "点开左侧的 `模型广场`，点击 `开通模型服务`：\n",
    "\n",
    "![模型广场](../Guide/assets/20240910092523.png)\n",
    "\n",
    "打勾，并点击 `确认开通`：\n",
    "\n",
    "![开通服务](../Guide/assets/20240910092523.png)\n",
    "\n",
    "在[控制台](https://bailian.console.aliyun.com/)点击右上角的 `用户图标` - `API-KEY`：\n",
    "\n",
    "![创建 API Key](../Guide/assets/20240910092938.png)\n",
    "\n",
    "点击`创建`\n",
    "\n",
    "![创建](../Guide/assets/20240910093036.png)\n",
    "\n",
    "选择 `默认业务空间`，点击 `确定` 创建 `API-KEY`：\n",
    "\n",
    "![填写描述](../Guide/assets/20240910093112.png)\n",
    "\n",
    "点击 `查看` 并复制 `API KEY`：\n",
    "\n",
    "![image-20240910093153303](../Guide/assets/20240910093153.png)"
   ]
  },
  {
   "cell_type": "markdown",
   "id": "5455bb5d-e0d9-49fd-87cf-318f050ddbd1",
   "metadata": {},
   "source": [
    "#### 代码示例"
   ]
  },
  {
   "cell_type": "code",
   "execution_count": null,
   "id": "1812a5bf-6394-4e5c-91a2-0c14eee94f4e",
   "metadata": {},
   "outputs": [],
   "source": [
    "from openai import OpenAI\n",
    "import os\n",
    "\n",
    "# 临时环境变量配置\n",
    "os.environ[\"DASHSCOPE_API_KEY\"] = \"your-api-key\" # 1\n",
    "\n",
    "client = OpenAI(\n",
    "    api_key=os.getenv(\"DASHSCOPE_API_KEY\"),\n",
    "    base_url=\"https://dashscope.aliyuncs.com/compatible-mode/v1\", # 2\n",
    ")\n",
    "\n",
    "# 单轮对话示例\n",
    "response = client.chat.completions.create(\n",
    "    model=\"deepseek-v3\", # 3\n",
    "    messages=[\n",
    "        {'role': 'system', 'content': 'You are a helpful assistant.'},\n",
    "        {'role': 'user', 'content': '你是谁？'}\n",
    "    ]\n",
    ")\n",
    "\n",
    "# 打印模型回复内容\n",
    "print(response.choices[0].message.content)"
   ]
  },
  {
   "cell_type": "markdown",
   "id": "09c8ea05-718d-4dd9-bc36-802eb0b9b95a",
   "metadata": {
    "jp-MarkdownHeadingCollapsed": true
   },
   "source": [
    "### 百度智能云\n"
   ]
  },
  {
   "cell_type": "markdown",
   "id": "20a3da29-b677-43bd-a485-98707cf05bab",
   "metadata": {},
   "source": [
    "访问[百度智能云控制台](https://login.bce.baidu.com/?redirect=https%3A%2F%2Fconsole.bce.baidu.com%2Fqianfan%2Fmodelcenter%2Fmodel%2FbuildIn%2Flist)进行注册并登录：\n",
    "\n",
    "![百度智能云](../Guide/assets/image-20250205182743814.png)\n",
    "\n",
    "查看用户协议，点击 `同意并继续`：\n",
    "\n",
    "![用户协议](../Guide/assets/image-20250205182633067.png)\n",
    "\n",
    "点击左侧的 `模型广场`，搜索 `DeepSeek`：\n",
    "\n",
    "![DeepSeek](../Guide/assets/image-20250205183041249.png)\n",
    "\n",
    "可以看到百度也提供了相关服务，接下来我们访问 [API Key](https://console.bce.baidu.com/iam/#/iam/apikey/list)，点击 `创建 API Key`：\n",
    "\n",
    "![API KEY](../Guide/assets/image-20250205214906885.png)\n",
    "\n",
    "选择 `千帆 ModelBuilder`，点击 `确定`：\n",
    "\n",
    "![权限配置](../Guide/assets/image-20250205220411698.png)\n",
    "\n",
    "点击 `复制`：\n",
    "\n",
    "![复制 API Key](../Guide/assets/image-20250205215234081.png)"
   ]
  },
  {
   "cell_type": "markdown",
   "id": "cc1ca67d-2783-46f8-82ac-c18bc1141a8c",
   "metadata": {},
   "source": [
    "#### 代码示例"
   ]
  },
  {
   "cell_type": "code",
   "execution_count": null,
   "id": "ce266b6b-e0b3-48e9-8faf-aaaa190f024f",
   "metadata": {},
   "outputs": [],
   "source": [
    "from openai import OpenAI\n",
    "import os\n",
    "\n",
    "# 临时环境变量配置\n",
    "os.environ[\"BAIDU_API_KEY\"] = \"your-api-key\" # 1\n",
    "\n",
    "client = OpenAI(\n",
    "    api_key=os.getenv(\"BAIDU_API_KEY\"),\n",
    "    base_url=\"https://qianfan.baidubce.com/v2\", # 2\n",
    ")\n",
    "\n",
    "# 单轮对话示例\n",
    "response = client.chat.completions.create(\n",
    "    model=\"deepseek-v3\", # 3\n",
    "    messages=[\n",
    "        {'role': 'system', 'content': 'You are a helpful assistant.'},\n",
    "        {'role': 'user', 'content': '你是谁？'}\n",
    "    ]\n",
    ")\n",
    "\n",
    "# 打印模型回复内容\n",
    "print(response.choices[0].message.content)"
   ]
  },
  {
   "cell_type": "markdown",
   "id": "896ac1b8-2f4b-4f11-9e75-6fec0d65ea4a",
   "metadata": {
    "jp-MarkdownHeadingCollapsed": true
   },
   "source": [
    "### 字节火山引擎"
   ]
  },
  {
   "cell_type": "markdown",
   "id": "68442167-1f1f-4b8c-a713-4bf722a5ff34",
   "metadata": {},
   "source": [
    "> 这是一个稍显繁杂的流程。\n",
    "\n",
    "访问[火山引擎](https://console.volcengine.com/auth/signup?redirectURI=%2Fark%2Fregion%3Aark%2Bcn-beijing%2Fmodel%3FprojectName%3Dundefined%26vendor%3DBytedance%26view%3DLIST_VIEW)进行注册并登录：\n",
    "\n",
    "![注册](../Guide/assets/image-20250208202359743.png)\n",
    "\n",
    "对于每个模型，将赠送 50 万 tokens 的额度。\n",
    "\n",
    "![赠送额度](../Guide/assets/image-20250208202730457.png)\n",
    "\n",
    "点击左侧的 `API Key 管理` 或者访问 [API 入口](https://console.volcengine.com/ark/region:ark+cn-beijing/apiKey?apikey=%7B%7D)，然后点击 `创建 API Key`：\n",
    "\n",
    "![API Key 管理](../Guide/assets/image-20250208203228869.png)\n",
    "\n",
    "默认名称基于时间自动生成，修改或直接点击 `创建`：\n",
    "\n",
    "![创建](../Guide/assets/image-20250208203353628.png)\n",
    "\n",
    "点击箭头位置，然后复制 `API Key`：\n",
    "\n",
    "![复制 API Key](../Guide/assets/image-20250208203519527.png)\n",
    "\n",
    "接下来，点击左侧的 `开通服务`，找到 `DeepSeek`，然后点击右侧的 `开通服务`：\n",
    "\n",
    "![开通服务](../Guide/assets/image-20250208205347081.png)\n",
    "\n",
    "勾选想用的模型，点击 `立即开通`：\n",
    "\n",
    "![勾选模型](../Guide/assets/image-20250208205416948.png)\n",
    "\n",
    "字节终于有了预置的推理接入点：\n",
    "\n",
    "![自动创建模型接入点](../Guide/assets/image-20250307113923851.png)\n",
    "\n",
    "- 聊天模型：`deepseek-v3-241226`\n",
    "- 推理模型：`deepseek-r1-250120`"
   ]
  },
  {
   "cell_type": "markdown",
   "id": "da2315dd-f7c8-4dda-8220-c7daac946c6d",
   "metadata": {},
   "source": [
    "#### 代码示例\n"
   ]
  },
  {
   "cell_type": "code",
   "execution_count": null,
   "id": "4cb937dd-1047-40cc-863a-d225ddc9f0ca",
   "metadata": {},
   "outputs": [],
   "source": [
    "from openai import OpenAI\n",
    "import os\n",
    "\n",
    "# 临时环境变量配置\n",
    "os.environ[\"ARK_API_KEY\"] = \"your-api-key\" # 1\n",
    "\n",
    "client = OpenAI(\n",
    "    api_key=os.getenv(\"ARK_API_KEY\"),\n",
    "    base_url=\"https://ark.cn-beijing.volces.com/api/v3\", # 2\n",
    ")\n",
    "\n",
    "# 单轮对话示例\n",
    "response = client.chat.completions.create(\n",
    "    model=\"deepseek-v3-241226\", # 3\n",
    "    messages=[\n",
    "        {'role': 'system', 'content': 'You are a helpful assistant.'},\n",
    "        {'role': 'user', 'content': '你是谁？'}\n",
    "    ]\n",
    ")\n",
    "\n",
    "# 打印模型回复内容\n",
    "print(response.choices[0].message.content)"
   ]
  }
 ],
 "metadata": {
  "kernelspec": {
   "display_name": "Python 3 (ipykernel)",
   "language": "python",
   "name": "python3"
  },
  "language_info": {
   "codemirror_mode": {
    "name": "ipython",
    "version": 3
   },
   "file_extension": ".py",
   "mimetype": "text/x-python",
   "name": "python",
   "nbconvert_exporter": "python",
   "pygments_lexer": "ipython3",
   "version": "3.9.16"
  }
 },
 "nbformat": 4,
 "nbformat_minor": 5
}