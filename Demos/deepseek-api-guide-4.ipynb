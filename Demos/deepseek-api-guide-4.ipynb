{
 "cells": [
  {
   "cell_type": "markdown",
   "id": "bb4b298d-5e1a-4e98-ab64-934804ad626a",
   "metadata": {},
   "source": [
    "# DeepSeek API 多轮对话 - OpenAI SDK\n",
    "\n",
    "> 指导文章：[DeepSeek API 多轮对话 - OpenAI SDK](https://github.com/Hoper-J/AI-Guide-and-Demos-zh_CN/blob/master/Guide/DeepSeek%20API%20多轮对话%20-%20OpenAI%20SDK.md)\n",
    "> \n",
    "> 在代码运行过程中可能遇到的问题：\n",
    "> 1. 为什么等待时间那么长？\n",
    ">\n",
    ">    答：因为默认参数 `stream=False`，不启用流式输出。对于推理模型来说，非流式输出下的用户体验极其糟糕，故当前代码文件为最后一次非流式输出的代码演示，之后将默认采用流式输出。\n",
    "> 2. 504 报错：对应服务当前的负载高，可以稍后尝试或者切换平台。\n",
    "\n",
    "从下方选择平台开始，替换 `your-api-key` 后点击 `►` 或使用 `Shift + 回车` 运行代码块。\n",
    "\n",
    "**注意**：\n",
    "\n",
    "- 当前代码为非流式输出。\n",
    "\n",
    "在线链接：[Kaggle](https://www.kaggle.com/code/aidemos/deepseek-api-guide-4) | [Colab](https://colab.research.google.com/drive/11REpPevN4bSL8yeJzQs7LAiV2cm9lUmh?usp=sharing)"
   ]
  },
  {
   "cell_type": "markdown",
   "id": "b14b6944-18b4-4b04-be0a-c84f577b4986",
   "metadata": {
    "jp-MarkdownHeadingCollapsed": true
   },
   "source": [
    "# DeepSeek"
   ]
  },
  {
   "cell_type": "markdown",
   "id": "d9e23572-b60b-4fa6-ba69-0182088afc44",
   "metadata": {},
   "source": [
    "## DeepSeek-Chat"
   ]
  },
  {
   "cell_type": "code",
   "execution_count": null,
   "id": "cd3bb2c1-57d1-4be7-a9e8-84bc2b9004fa",
   "metadata": {},
   "outputs": [],
   "source": [
    "from openai import OpenAI\n",
    "import os\n",
    "\n",
    "# 临时环境变量配置\n",
    "os.environ[\"DEEPSEEK_API_KEY\"] = \"your-api-key\"\n",
    "\n",
    "client = OpenAI(\n",
    "    api_key=os.getenv(\"DEEPSEEK_API_KEY\"),\n",
    "    base_url=\"https://api.deepseek.com\",\n",
    ")"
   ]
  },
  {
   "cell_type": "markdown",
   "id": "8811ccbe-cfd1-45e4-be3f-c658e69bd6fa",
   "metadata": {},
   "source": [
    "### 单轮对话"
   ]
  },
  {
   "cell_type": "code",
   "execution_count": null,
   "id": "5fa2d7da-cce2-404a-a603-f68ed45c1c47",
   "metadata": {},
   "outputs": [],
   "source": [
    "# 单轮对话示例\n",
    "completion = client.chat.completions.create(\n",
    "    model=\"deepseek-chat\",\n",
    "    messages=[\n",
    "        {'role': 'system', 'content': 'You are a helpful assistant.'}, \n",
    "        {'role': 'user', 'content': '你是谁？'}\n",
    "    ]\n",
    ")\n",
    "\n",
    "# 打印模型消息\n",
    "print(completion.choices[0].message.content)"
   ]
  },
  {
   "cell_type": "markdown",
   "id": "3170b31e-0cb5-4be5-b7f1-a8f2d0576e7f",
   "metadata": {},
   "source": [
    "### 两轮对话"
   ]
  },
  {
   "cell_type": "code",
   "execution_count": null,
   "id": "8e22b864-d4c2-4815-a00e-f91c25dfa306",
   "metadata": {},
   "outputs": [],
   "source": [
    "# 初始化对话历史，包含系统消息\n",
    "messages = [{'role': 'system', 'content': 'You are a helpful assistant.'}]\n",
    "\n",
    "# 第一轮对话\n",
    "messages.append({'role': 'user', 'content': '9.11 和 9.8 哪个更大？'})\n",
    "completion = client.chat.completions.create(\n",
    "    model=\"deepseek-chat\",\n",
    "    messages=messages\n",
    ")\n",
    "content = completion.choices[0].message.content\n",
    "print(\"AI:\", content)\n",
    "\n",
    "# 将第一轮模型回复加入历史记录\n",
    "messages.append({'role': 'assistant', 'content': content})\n",
    "\n",
    "# 第二轮对话\n",
    "messages.append({'role': 'user', 'content': '刚刚针对哪两个数值进行了比较？'})\n",
    "completion = client.chat.completions.create(\n",
    "    model=\"deepseek-chat\",\n",
    "    messages=messages\n",
    ")\n",
    "content = completion.choices[0].message.content\n",
    "print(\"AI:\", content)"
   ]
  },
  {
   "cell_type": "markdown",
   "id": "c3ee8c47-a782-4e91-875e-a99f7e32d6f2",
   "metadata": {},
   "source": [
    "### 多轮对话"
   ]
  },
  {
   "cell_type": "code",
   "execution_count": null,
   "id": "78a21713-5256-4e5a-9c4a-60f2c172ca75",
   "metadata": {},
   "outputs": [],
   "source": [
    "# 初始化对话历史，包含系统消息\n",
    "messages = [{'role': 'system', 'content': 'You are a helpful assistant.'}]\n",
    "\n",
    "print(\"开始对话，输入 'exit' 或 'quit' 结束对话。\")\n",
    "while True:\n",
    "    # 获取用户输入\n",
    "    user_input = input(\"You：\")\n",
    "    if user_input.lower() in ['exit', 'quit']:  # 退出条件\n",
    "        break\n",
    "        \n",
    "    # 记录用户输入\n",
    "    messages.append({'role': 'user', 'content': user_input})\n",
    "    \n",
    "    # 调用 API 获取模型回复\n",
    "    completion = client.chat.completions.create(\n",
    "        model=\"deepseek-chat\",\n",
    "        messages=messages\n",
    "    )\n",
    "    content = completion.choices[0].message.content\n",
    "    print(\"AI:\", content)\n",
    "    \n",
    "    # 记录模型回复\n",
    "    messages.append({'role': 'assistant', 'content': content})"
   ]
  },
  {
   "cell_type": "markdown",
   "id": "eefec12c-7140-49bf-9a1c-05b080c7f1d1",
   "metadata": {},
   "source": [
    "### 封装对话逻辑"
   ]
  },
  {
   "cell_type": "code",
   "execution_count": null,
   "id": "12de2c9c-58e8-43df-b671-ef0cd6491cd6",
   "metadata": {},
   "outputs": [],
   "source": [
    "class ChatSession:\n",
    "    def __init__(self, client, system_message=\"You are a helpful assistant.\"):\n",
    "        \"\"\"\n",
    "        参数:\n",
    "            client (openai.OpenAI): OpenAI 客户端实例\n",
    "            system_message (str): 系统消息，用于设定对话背景\n",
    "        \"\"\"\n",
    "        self.client = client\n",
    "        self.messages = [{'role': 'system', 'content': system_message}]\n",
    "\n",
    "    def append_message(self, role, content):\n",
    "        \"\"\"\n",
    "        添加一条对话消息\n",
    "        参数:\n",
    "            role (str): 消息角色，为 'user' 或 'assistant'\n",
    "            content (str): 消息内容\n",
    "        \"\"\"\n",
    "        self.messages.append({'role': role, 'content': content})\n",
    "\n",
    "    def get_response(self, user_input):\n",
    "        \"\"\"\n",
    "        添加用户消息，调用 API 获取回复，并将回复加入历史记录\n",
    "        参数:\n",
    "            user_input (str): 用户输入的消息\n",
    "        返回:\n",
    "            content (str): 模型的回复内容\n",
    "        \"\"\"\n",
    "        self.append_message('user', user_input)\n",
    "        completion = self.client.chat.completions.create(\n",
    "            model=\"deepseek-chat\",\n",
    "            messages=self.messages\n",
    "        )\n",
    "        content = completion.choices[0].message.content\n",
    "        self.append_message('assistant', content)\n",
    "        return content\n",
    "\n",
    "\n",
    "# 初始化对话会话，采用默认的系统消息\n",
    "session = ChatSession(client)\n",
    "\n",
    "print(\"开始对话，输入 'exit' 或 'quit' 结束对话。\")\n",
    "while True:\n",
    "    user_input = input(\"You: \")\n",
    "    if user_input.lower() in ['exit', 'quit']:\n",
    "        break\n",
    "    reply = session.get_response(user_input)\n",
    "    print(\"AI:\", reply)"
   ]
  },
  {
   "cell_type": "markdown",
   "id": "d0a7d31b-0fb6-4415-8011-d1ded410af78",
   "metadata": {},
   "source": [
    "## DeepSeek-Reasoner"
   ]
  },
  {
   "cell_type": "markdown",
   "id": "e498e26f-60bf-41bd-9974-601b64bd0961",
   "metadata": {},
   "source": [
    "### 单轮对话"
   ]
  },
  {
   "cell_type": "code",
   "execution_count": null,
   "id": "52223508-99a5-455b-afe2-f02f216f1820",
   "metadata": {},
   "outputs": [],
   "source": [
    "completion = client.chat.completions.create(\n",
    "    model=\"deepseek-reasoner\",\n",
    "    messages=[\n",
    "        {'role': 'system', 'content': 'You are a helpful assistant.'}, \n",
    "        {'role': 'user', 'content': '你是谁？'}\n",
    "    ]\n",
    ")\n",
    "\n",
    "# 获取推理思考过程和模型回复\n",
    "reasoning_content = completion.choices[0].message.reasoning_content\n",
    "content = completion.choices[0].message.content\n",
    "\n",
    "print(f\"===== 模型推理过程 =====\\n{reasoning_content}\\n\")\n",
    "print(f\"===== 模型回复 =====\\n{content}\\n\")"
   ]
  },
  {
   "cell_type": "markdown",
   "id": "d4ac0f2b-d933-433b-856c-5c74d98ea995",
   "metadata": {},
   "source": [
    "### 两轮对话"
   ]
  },
  {
   "cell_type": "code",
   "execution_count": null,
   "id": "10b95b32-1e4e-4abc-b93a-b385e2e86fde",
   "metadata": {},
   "outputs": [],
   "source": [
    "# 初始化对话历史，包含系统消息\n",
    "messages = [{'role': 'system', 'content': 'You are a helpful assistant.'}]\n",
    "\n",
    "# 第一轮对话\n",
    "messages.append({'role': 'user', 'content': '9.11 和 9.8 哪个更大？'})\n",
    "completion = client.chat.completions.create(\n",
    "    model=\"deepseek-reasoner\",\n",
    "    messages=messages\n",
    ")\n",
    "# 获取推理思考过程和模型回复\n",
    "reasoning_content = completion.choices[0].message.reasoning_content\n",
    "content = completion.choices[0].message.content\n",
    "\n",
    "print(f\"===== 第一轮推理过程 =====\\n{reasoning_content}\\n\")\n",
    "print(f\"===== 模型回复 =====\\nAI: {content}\\n\")\n",
    "\n",
    "# 只将最终的回复（content）加入对话历史\n",
    "messages.append({'role': 'assistant', 'content': content})\n",
    "\n",
    "# 第二轮对话\n",
    "messages.append({'role': 'user', 'content': '刚刚针对哪两个数值进行了比较？'})\n",
    "completion = client.chat.completions.create(\n",
    "    model=\"deepseek-reasoner\",\n",
    "    messages=messages\n",
    ")\n",
    "# 获取推理思考过程和模型回复\n",
    "reasoning_content = completion.choices[0].message.reasoning_content\n",
    "content = completion.choices[0].message.content\n",
    "\n",
    "print(f\"===== 第二轮推理过程 =====\\n{reasoning_content}\\n\")\n",
    "print(f\"===== 模型回复 =====\\nAI: {content}\\n\")"
   ]
  },
  {
   "cell_type": "markdown",
   "id": "38e1a19a-f138-4e88-b7ec-348d570c7096",
   "metadata": {},
   "source": [
    "### 多轮对话"
   ]
  },
  {
   "cell_type": "code",
   "execution_count": null,
   "id": "12d97e64-1841-4633-b828-f432ab33d3ec",
   "metadata": {},
   "outputs": [],
   "source": [
    "# 初始化对话历史，包含系统消息\n",
    "messages = [{'role': 'system', 'content': 'You are a helpful assistant.'}]\n",
    "\n",
    "print(\"开始对话（Reasoner），输入 'exit' 或 'quit' 结束对话。\")\n",
    "while True:\n",
    "    user_input = input(\"You：\")\n",
    "    if user_input.lower() in ['exit', 'quit']:\n",
    "        break\n",
    "\n",
    "    # 1. 记录用户输入\n",
    "    messages.append({'role': 'user', 'content': user_input})\n",
    "\n",
    "    # 2. 调用 API\n",
    "    completion = client.chat.completions.create(\n",
    "        model=\"deepseek-reasoner\",\n",
    "        messages=messages\n",
    "    )\n",
    "    reasoning_content = completion.choices[0].message.reasoning_content\n",
    "    content = completion.choices[0].message.content\n",
    "\n",
    "    # 3. 输出推理思考过程与最终回复\n",
    "    print(f\"===== 推理过程 =====\\n{reasoning_content}\\n\")\n",
    "    print(f\"===== 模型回复 =====\\nAI: {content}\\n\")\n",
    "\n",
    "    # 4. 只将模型的最终回复写入到历史消息中\n",
    "    messages.append({'role': 'assistant', 'content': content})"
   ]
  },
  {
   "cell_type": "markdown",
   "id": "2d12ec5b-de8c-472b-88af-7f81760c5288",
   "metadata": {},
   "source": [
    "### 封装对话逻辑"
   ]
  },
  {
   "cell_type": "code",
   "execution_count": null,
   "id": "fd05574d-eb19-4f4a-bf79-2aaf3d77658a",
   "metadata": {},
   "outputs": [],
   "source": [
    "class ReasonerSession:\n",
    "    def __init__(self, client, system_message=\"You are a helpful assistant.\"):\n",
    "        \"\"\"\n",
    "        参数:\n",
    "            client (openai.OpenAI): OpenAI 客户端实例\n",
    "            system_message (str): 系统消息，用于设定对话背景\n",
    "        \"\"\"\n",
    "        self.client = client\n",
    "        self.messages = [{'role': 'system', 'content': system_message}]\n",
    "\n",
    "    def append_message(self, role, content):\n",
    "        \"\"\"\n",
    "        添加一条对话消息\n",
    "        参数:\n",
    "            role (str): 消息角色，为 'user' 或 'assistant'\n",
    "            content (str): 消息内容\n",
    "        \"\"\"\n",
    "        self.messages.append({'role': role, 'content': content})\n",
    "\n",
    "    def get_response(self, user_input):\n",
    "        \"\"\"\n",
    "        添加用户消息，调用 API 获取思维链和回复，并将回复加入历史记录\n",
    "        参数:\n",
    "            user_input (str): 用户输入的消息\n",
    "        返回:\n",
    "            (reasoning_content, content) (tuple): 模型的推理过程和回复\n",
    "        \"\"\"\n",
    "        # 1. 记录用户输入\n",
    "        self.append_message('user', user_input)\n",
    "\n",
    "        # 2. 调用 API\n",
    "        completion = self.client.chat.completions.create(\n",
    "            model=\"deepseek-reasoner\",\n",
    "            messages=self.messages\n",
    "        )\n",
    "\n",
    "        # 3. 获取推理思考过程和最终回复\n",
    "        reasoning_content = completion.choices[0].message.reasoning_content\n",
    "        content = completion.choices[0].message.content\n",
    "\n",
    "        # 4. 只将模型的最终回复加入到历史消息\n",
    "        self.append_message('assistant', content)\n",
    "\n",
    "        return reasoning_content, content\n",
    "\n",
    "\n",
    "# 初始化推理会话，采用默认的系统消息\n",
    "session = ReasonerSession(client)\n",
    "\n",
    "print(\"开始对话（Reasoner），输入 'exit' 或 'quit' 结束对话。\")\n",
    "while True:\n",
    "    user_input = input(\"You：\")\n",
    "    if user_input.lower() in ['exit', 'quit']:  # 退出条件\n",
    "        break\n",
    "\n",
    "    reasoning, reply = session.get_response(user_input)\n",
    "    print(f\"===== 推理过程 =====\\n{reasoning}\\n\")\n",
    "    print(f\"===== 模型回复 =====\\nAI: {reply}\\n\")"
   ]
  },
  {
   "cell_type": "markdown",
   "id": "502678c3-6645-49b6-a707-6a29f45c3895",
   "metadata": {
    "jp-MarkdownHeadingCollapsed": true
   },
   "source": [
    "# 硅基流动"
   ]
  },
  {
   "cell_type": "markdown",
   "id": "ff6d162c-a955-4e61-a60b-3d673c6dd871",
   "metadata": {},
   "source": [
    "## DeepSeek-Chat"
   ]
  },
  {
   "cell_type": "code",
   "execution_count": null,
   "id": "8b444291-851d-40c6-86f0-241d4aec1d4d",
   "metadata": {},
   "outputs": [],
   "source": [
    "from openai import OpenAI\n",
    "import os\n",
    "\n",
    "# 临时环境变量配置\n",
    "os.environ[\"SILICONFLOW_API_KEY\"] = \"your-api-key\"\n",
    "\n",
    "client = OpenAI(\n",
    "    api_key=os.getenv(\"SILICONFLOW_API_KEY\"),\n",
    "    base_url=\"https://api.siliconflow.cn/v1\",\n",
    ")"
   ]
  },
  {
   "cell_type": "markdown",
   "id": "ea40b539-89f2-4120-be55-d02eadb6610a",
   "metadata": {},
   "source": [
    "### 单轮对话"
   ]
  },
  {
   "cell_type": "code",
   "execution_count": null,
   "id": "7a960861-bd20-461a-85b0-1e873d7bafee",
   "metadata": {},
   "outputs": [],
   "source": [
    "# 单轮对话示例\n",
    "completion = client.chat.completions.create(\n",
    "    model=\"deepseek-ai/DeepSeek-V3\",\n",
    "    messages=[\n",
    "        {'role': 'system', 'content': 'You are a helpful assistant.'}, \n",
    "        {'role': 'user', 'content': '你是谁？'}\n",
    "    ]\n",
    ")\n",
    "\n",
    "# 打印模型消息\n",
    "print(completion.choices[0].message.content)"
   ]
  },
  {
   "cell_type": "markdown",
   "id": "222db473-49b0-4f5e-bb74-1d53fa67e50c",
   "metadata": {},
   "source": [
    "### 两轮对话"
   ]
  },
  {
   "cell_type": "code",
   "execution_count": null,
   "id": "b7dda8b6-da57-45ed-81ea-5b9829e3a56c",
   "metadata": {},
   "outputs": [],
   "source": [
    "# 初始化对话历史，包含系统消息\n",
    "messages = [{'role': 'system', 'content': 'You are a helpful assistant.'}]\n",
    "\n",
    "# 第一轮对话\n",
    "messages.append({'role': 'user', 'content': '9.11 和 9.8 哪个更大？'})\n",
    "completion = client.chat.completions.create(\n",
    "    model=\"deepseek-ai/DeepSeek-V3\",\n",
    "    messages=messages\n",
    ")\n",
    "content = completion.choices[0].message.content\n",
    "print(\"AI:\", content)\n",
    "\n",
    "# 将第一轮模型回复加入历史记录\n",
    "messages.append({'role': 'assistant', 'content': content})\n",
    "\n",
    "# 第二轮对话\n",
    "messages.append({'role': 'user', 'content': '刚刚针对哪两个数值进行了比较？'})\n",
    "completion = client.chat.completions.create(\n",
    "    model=\"deepseek-ai/DeepSeek-V3\",\n",
    "    messages=messages\n",
    ")\n",
    "content = completion.choices[0].message.content\n",
    "print(\"AI:\", content)"
   ]
  },
  {
   "cell_type": "markdown",
   "id": "a62411aa-c9af-4312-9164-59127b57b98f",
   "metadata": {},
   "source": [
    "### 多轮对话"
   ]
  },
  {
   "cell_type": "code",
   "execution_count": null,
   "id": "7dcf81f2-506b-4e46-8338-77f2d6b91e6a",
   "metadata": {},
   "outputs": [],
   "source": [
    "# 初始化对话历史，包含系统消息\n",
    "messages = [{'role': 'system', 'content': 'You are a helpful assistant.'}]\n",
    "\n",
    "print(\"开始对话，输入 'exit' 或 'quit' 结束对话。\")\n",
    "while True:\n",
    "    # 获取用户输入\n",
    "    user_input = input(\"You：\")\n",
    "    if user_input.lower() in ['exit', 'quit']:  # 退出条件\n",
    "        break\n",
    "        \n",
    "    # 记录用户输入\n",
    "    messages.append({'role': 'user', 'content': user_input})\n",
    "    \n",
    "    # 调用 API 获取模型回复\n",
    "    completion = client.chat.completions.create(\n",
    "        model=\"deepseek-ai/DeepSeek-V3\",\n",
    "        messages=messages\n",
    "    )\n",
    "    content = completion.choices[0].message.content\n",
    "    print(\"AI:\", content)\n",
    "    \n",
    "    # 记录模型回复\n",
    "    messages.append({'role': 'assistant', 'content': content})"
   ]
  },
  {
   "cell_type": "markdown",
   "id": "df1715d9-bdb0-4af2-b9c4-d3292d76e323",
   "metadata": {},
   "source": [
    "### 封装对话逻辑"
   ]
  },
  {
   "cell_type": "code",
   "execution_count": null,
   "id": "e5da4161-6b31-4c5a-b895-40dc05e8b3e1",
   "metadata": {},
   "outputs": [],
   "source": [
    "class ChatSession:\n",
    "    def __init__(self, client, system_message=\"You are a helpful assistant.\"):\n",
    "        \"\"\"\n",
    "        参数:\n",
    "            client (openai.OpenAI): OpenAI 客户端实例\n",
    "            system_message (str): 系统消息，用于设定对话背景\n",
    "        \"\"\"\n",
    "        self.client = client\n",
    "        self.messages = [{'role': 'system', 'content': system_message}]\n",
    "\n",
    "    def append_message(self, role, content):\n",
    "        \"\"\"\n",
    "        添加一条对话消息\n",
    "        参数:\n",
    "            role (str): 消息角色，为 'user' 或 'assistant'\n",
    "            content (str): 消息内容\n",
    "        \"\"\"\n",
    "        self.messages.append({'role': role, 'content': content})\n",
    "\n",
    "    def get_response(self, user_input):\n",
    "        \"\"\"\n",
    "        添加用户消息，调用 API 获取回复，并将回复加入历史记录\n",
    "        参数:\n",
    "            user_input (str): 用户输入的消息\n",
    "        返回:\n",
    "            content (str): 模型的回复内容\n",
    "        \"\"\"\n",
    "        self.append_message('user', user_input)\n",
    "        completion = self.client.chat.completions.create(\n",
    "            model=\"deepseek-ai/DeepSeek-V3\",\n",
    "            messages=self.messages\n",
    "        )\n",
    "        content = completion.choices[0].message.content\n",
    "        self.append_message('assistant', content)\n",
    "        return content\n",
    "\n",
    "\n",
    "# 初始化对话会话，采用默认的系统消息\n",
    "session = ChatSession(client)\n",
    "\n",
    "print(\"开始对话，输入 'exit' 或 'quit' 结束对话。\")\n",
    "while True:\n",
    "    user_input = input(\"You: \")\n",
    "    if user_input.lower() in ['exit', 'quit']:\n",
    "        break\n",
    "    reply = session.get_response(user_input)\n",
    "    print(\"AI:\", reply)"
   ]
  },
  {
   "cell_type": "markdown",
   "id": "fe72a506-7390-497d-b072-f3a913b1b27f",
   "metadata": {},
   "source": [
    "## DeepSeek-Reasoner"
   ]
  },
  {
   "cell_type": "markdown",
   "id": "70fd3357-93da-4520-bbfa-6f0c5f31c5ed",
   "metadata": {},
   "source": [
    "### 单轮对话"
   ]
  },
  {
   "cell_type": "code",
   "execution_count": null,
   "id": "c48ceb51-dbd9-4804-a141-3f3fc57eea0e",
   "metadata": {},
   "outputs": [],
   "source": [
    "completion = client.chat.completions.create(\n",
    "    model=\"deepseek-ai/DeepSeek-R1\",\n",
    "    messages=[\n",
    "        {'role': 'system', 'content': 'You are a helpful assistant.'}, \n",
    "        {'role': 'user', 'content': '你是谁？'}\n",
    "    ]\n",
    ")\n",
    "\n",
    "# 获取推理思考过程和模型回复\n",
    "reasoning_content = completion.choices[0].message.reasoning_content\n",
    "content = completion.choices[0].message.content\n",
    "\n",
    "print(f\"===== 模型推理过程 =====\\n{reasoning_content}\\n\")\n",
    "print(f\"===== 模型回复 =====\\n{content}\\n\")"
   ]
  },
  {
   "cell_type": "markdown",
   "id": "d9d7b618-ce47-4f86-82b6-8156a1fd2168",
   "metadata": {},
   "source": [
    "### 两轮对话"
   ]
  },
  {
   "cell_type": "code",
   "execution_count": null,
   "id": "dd82894a-739c-481c-835d-6bbefa6c1c77",
   "metadata": {},
   "outputs": [],
   "source": [
    "# 初始化对话历史，包含系统消息\n",
    "messages = [{'role': 'system', 'content': 'You are a helpful assistant.'}]\n",
    "\n",
    "# 第一轮对话\n",
    "messages.append({'role': 'user', 'content': '9.11 和 9.8 哪个更大？'})\n",
    "completion = client.chat.completions.create(\n",
    "    model=\"deepseek-ai/DeepSeek-R1\",\n",
    "    messages=messages\n",
    ")\n",
    "# 获取推理思考过程和模型回复\n",
    "reasoning_content = completion.choices[0].message.reasoning_content\n",
    "content = completion.choices[0].message.content\n",
    "\n",
    "print(f\"===== 第一轮推理过程 =====\\n{reasoning_content}\\n\")\n",
    "print(f\"===== 模型回复 =====\\nAI: {content}\\n\")\n",
    "\n",
    "# 只将最终的回复（content）加入对话历史\n",
    "messages.append({'role': 'assistant', 'content': content})\n",
    "\n",
    "# 第二轮对话\n",
    "messages.append({'role': 'user', 'content': '刚刚针对哪两个数值进行了比较？'})\n",
    "completion = client.chat.completions.create(\n",
    "    model=\"deepseek-ai/DeepSeek-R1\",\n",
    "    messages=messages\n",
    ")\n",
    "# 获取推理思考过程和模型回复\n",
    "reasoning_content = completion.choices[0].message.reasoning_content\n",
    "content = completion.choices[0].message.content\n",
    "\n",
    "print(f\"===== 第二轮推理过程 =====\\n{reasoning_content}\\n\")\n",
    "print(f\"===== 模型回复 =====\\nAI: {content}\\n\")"
   ]
  },
  {
   "cell_type": "markdown",
   "id": "6b31a73d-9d50-4db2-9eaf-b1b518d0d106",
   "metadata": {},
   "source": [
    "### 多轮对话"
   ]
  },
  {
   "cell_type": "code",
   "execution_count": null,
   "id": "efdb2cba-66b4-4207-99b8-339fdb435bd1",
   "metadata": {},
   "outputs": [],
   "source": [
    "# 初始化对话历史，包含系统消息\n",
    "messages = [{'role': 'system', 'content': 'You are a helpful assistant.'}]\n",
    "\n",
    "print(\"开始对话（Reasoner），输入 'exit' 或 'quit' 结束对话。\")\n",
    "while True:\n",
    "    user_input = input(\"You：\")\n",
    "    if user_input.lower() in ['exit', 'quit']:\n",
    "        break\n",
    "\n",
    "    # 1. 记录用户输入\n",
    "    messages.append({'role': 'user', 'content': user_input})\n",
    "\n",
    "    # 2. 调用 API\n",
    "    completion = client.chat.completions.create(\n",
    "        model=\"deepseek-ai/DeepSeek-R1\",\n",
    "        messages=messages\n",
    "    )\n",
    "    reasoning_content = completion.choices[0].message.reasoning_content\n",
    "    content = completion.choices[0].message.content\n",
    "\n",
    "    # 3. 输出推理思考过程与最终回复\n",
    "    print(f\"===== 推理过程 =====\\n{reasoning_content}\\n\")\n",
    "    print(f\"===== 模型回复 =====\\nAI: {content}\\n\")\n",
    "\n",
    "    # 4. 只将模型的最终回复写入到历史消息中\n",
    "    messages.append({'role': 'assistant', 'content': content})"
   ]
  },
  {
   "cell_type": "markdown",
   "id": "7c8607c0-7697-4031-80e6-bd062c85cd56",
   "metadata": {},
   "source": [
    "### 封装对话逻辑"
   ]
  },
  {
   "cell_type": "code",
   "execution_count": null,
   "id": "a1cbfef1-a108-48d6-80a0-6209e1cd60be",
   "metadata": {},
   "outputs": [],
   "source": [
    "class ReasonerSession:\n",
    "    def __init__(self, client, system_message=\"You are a helpful assistant.\"):\n",
    "        \"\"\"\n",
    "        参数:\n",
    "            client (openai.OpenAI): OpenAI 客户端实例\n",
    "            system_message (str): 系统消息，用于设定对话背景\n",
    "        \"\"\"\n",
    "        self.client = client\n",
    "        self.messages = [{'role': 'system', 'content': system_message}]\n",
    "\n",
    "    def append_message(self, role, content):\n",
    "        \"\"\"\n",
    "        添加一条对话消息\n",
    "        参数:\n",
    "            role (str): 消息角色，为 'user' 或 'assistant'\n",
    "            content (str): 消息内容\n",
    "        \"\"\"\n",
    "        self.messages.append({'role': role, 'content': content})\n",
    "\n",
    "    def get_response(self, user_input):\n",
    "        \"\"\"\n",
    "        添加用户消息，调用 API 获取思维链和回复，并将回复加入历史记录\n",
    "        参数:\n",
    "            user_input (str): 用户输入的消息\n",
    "        返回:\n",
    "            (reasoning_content, content) (tuple): 模型的推理过程和回复\n",
    "        \"\"\"\n",
    "        # 1. 记录用户输入\n",
    "        self.append_message('user', user_input)\n",
    "\n",
    "        # 2. 调用 API\n",
    "        completion = self.client.chat.completions.create(\n",
    "            model=\"deepseek-ai/DeepSeek-R1\",\n",
    "            messages=self.messages\n",
    "        )\n",
    "\n",
    "        # 3. 获取推理思考过程和最终回复\n",
    "        reasoning_content = completion.choices[0].message.reasoning_content\n",
    "        content = completion.choices[0].message.content\n",
    "\n",
    "        # 4. 只将模型的最终回复加入到历史消息\n",
    "        self.append_message('assistant', content)\n",
    "\n",
    "        return reasoning_content, content\n",
    "\n",
    "\n",
    "# 初始化推理会话，采用默认的系统消息\n",
    "session = ReasonerSession(client)\n",
    "\n",
    "print(\"开始对话（Reasoner），输入 'exit' 或 'quit' 结束对话。\")\n",
    "while True:\n",
    "    user_input = input(\"You：\")\n",
    "    if user_input.lower() in ['exit', 'quit']:  # 退出条件\n",
    "        break\n",
    "\n",
    "    reasoning, reply = session.get_response(user_input)\n",
    "    print(f\"===== 推理过程 =====\\n{reasoning}\\n\")\n",
    "    print(f\"===== 模型回复 =====\\nAI: {reply}\\n\")"
   ]
  },
  {
   "cell_type": "markdown",
   "id": "668a9b2c-ec58-40cc-96d1-600a984eb161",
   "metadata": {
    "jp-MarkdownHeadingCollapsed": true
   },
   "source": [
    "# 阿里云百炼"
   ]
  },
  {
   "cell_type": "markdown",
   "id": "9ba21368-4577-439e-a594-58a76226e6b6",
   "metadata": {},
   "source": [
    "## DeepSeek-Chat"
   ]
  },
  {
   "cell_type": "code",
   "execution_count": null,
   "id": "dbfd8aea-b5a0-4664-9026-f5c8cffa0654",
   "metadata": {},
   "outputs": [],
   "source": [
    "from openai import OpenAI\n",
    "import os\n",
    "\n",
    "# 临时环境变量配置\n",
    "os.environ[\"DASHSCOPE_API_KEY\"] = \"your-api-key\"\n",
    "\n",
    "client = OpenAI(\n",
    "    api_key=os.getenv(\"DASHSCOPE_API_KEY\"),\n",
    "    base_url=\"https://dashscope.aliyuncs.com/compatible-mode/v1\",\n",
    ")"
   ]
  },
  {
   "cell_type": "markdown",
   "id": "afb3c8ae-c9bd-4718-b7bd-4df6ca34f673",
   "metadata": {},
   "source": [
    "### 单轮对话"
   ]
  },
  {
   "cell_type": "code",
   "execution_count": null,
   "id": "b28a6d91-4c59-4f13-8ca9-99feb95356c6",
   "metadata": {},
   "outputs": [],
   "source": [
    "# 单轮对话示例\n",
    "completion = client.chat.completions.create(\n",
    "    model=\"deepseek-v3\",\n",
    "    messages=[\n",
    "        {'role': 'system', 'content': 'You are a helpful assistant.'}, \n",
    "        {'role': 'user', 'content': '你是谁？'}\n",
    "    ]\n",
    ")\n",
    "\n",
    "# 打印模型消息\n",
    "print(completion.choices[0].message.content)"
   ]
  },
  {
   "cell_type": "markdown",
   "id": "1790ea0a-2ae6-41e6-bd99-d466cd63e9d5",
   "metadata": {},
   "source": [
    "### 两轮对话"
   ]
  },
  {
   "cell_type": "code",
   "execution_count": null,
   "id": "387109f2-f41a-4642-8ef7-75e495c9bafb",
   "metadata": {},
   "outputs": [],
   "source": [
    "# 初始化对话历史，包含系统消息\n",
    "messages = [{'role': 'system', 'content': 'You are a helpful assistant.'}]\n",
    "\n",
    "# 第一轮对话\n",
    "messages.append({'role': 'user', 'content': '9.11 和 9.8 哪个更大？'})\n",
    "completion = client.chat.completions.create(\n",
    "    model=\"deepseek-v3\",\n",
    "    messages=messages\n",
    ")\n",
    "content = completion.choices[0].message.content\n",
    "print(\"AI:\", content)\n",
    "\n",
    "# 将第一轮模型回复加入历史记录\n",
    "messages.append({'role': 'assistant', 'content': content})\n",
    "\n",
    "# 第二轮对话\n",
    "messages.append({'role': 'user', 'content': '刚刚针对哪两个数值进行了比较？'})\n",
    "completion = client.chat.completions.create(\n",
    "    model=\"deepseek-v3\",\n",
    "    messages=messages\n",
    ")\n",
    "content = completion.choices[0].message.content\n",
    "print(\"AI:\", content)"
   ]
  },
  {
   "cell_type": "markdown",
   "id": "be181f77-afb2-4400-b705-4e3b448d262a",
   "metadata": {},
   "source": [
    "### 多轮对话"
   ]
  },
  {
   "cell_type": "code",
   "execution_count": null,
   "id": "77519a99-4203-41ab-a7a8-35510c50fdc4",
   "metadata": {},
   "outputs": [],
   "source": [
    "# 初始化对话历史，包含系统消息\n",
    "messages = [{'role': 'system', 'content': 'You are a helpful assistant.'}]\n",
    "\n",
    "print(\"开始对话，输入 'exit' 或 'quit' 结束对话。\")\n",
    "while True:\n",
    "    # 获取用户输入\n",
    "    user_input = input(\"You：\")\n",
    "    if user_input.lower() in ['exit', 'quit']:  # 退出条件\n",
    "        break\n",
    "        \n",
    "    # 记录用户输入\n",
    "    messages.append({'role': 'user', 'content': user_input})\n",
    "    \n",
    "    # 调用 API 获取模型回复\n",
    "    completion = client.chat.completions.create(\n",
    "        model=\"deepseek-v3\",\n",
    "        messages=messages\n",
    "    )\n",
    "    content = completion.choices[0].message.content\n",
    "    print(\"AI:\", content)\n",
    "    \n",
    "    # 记录模型回复\n",
    "    messages.append({'role': 'assistant', 'content': content})"
   ]
  },
  {
   "cell_type": "markdown",
   "id": "7f387a5a-fe7d-472c-91a1-6a06ecc56cae",
   "metadata": {},
   "source": [
    "### 封装对话逻辑"
   ]
  },
  {
   "cell_type": "code",
   "execution_count": null,
   "id": "3d5ae085-3a1f-4160-9156-bb13a536bc66",
   "metadata": {},
   "outputs": [],
   "source": [
    "class ChatSession:\n",
    "    def __init__(self, client, system_message=\"You are a helpful assistant.\"):\n",
    "        \"\"\"\n",
    "        参数:\n",
    "            client (openai.OpenAI): OpenAI 客户端实例\n",
    "            system_message (str): 系统消息，用于设定对话背景\n",
    "        \"\"\"\n",
    "        self.client = client\n",
    "        self.messages = [{'role': 'system', 'content': system_message}]\n",
    "\n",
    "    def append_message(self, role, content):\n",
    "        \"\"\"\n",
    "        添加一条对话消息\n",
    "        参数:\n",
    "            role (str): 消息角色，为 'user' 或 'assistant'\n",
    "            content (str): 消息内容\n",
    "        \"\"\"\n",
    "        self.messages.append({'role': role, 'content': content})\n",
    "\n",
    "    def get_response(self, user_input):\n",
    "        \"\"\"\n",
    "        添加用户消息，调用 API 获取回复，并将回复加入历史记录\n",
    "        参数:\n",
    "            user_input (str): 用户输入的消息\n",
    "        返回:\n",
    "            content (str): 模型的回复内容\n",
    "        \"\"\"\n",
    "        self.append_message('user', user_input)\n",
    "        completion = self.client.chat.completions.create(\n",
    "            model=\"deepseek-v3\",\n",
    "            messages=self.messages\n",
    "        )\n",
    "        content = completion.choices[0].message.content\n",
    "        self.append_message('assistant', content)\n",
    "        return content\n",
    "\n",
    "\n",
    "# 初始化对话会话，采用默认的系统消息\n",
    "session = ChatSession(client)\n",
    "\n",
    "print(\"开始对话，输入 'exit' 或 'quit' 结束对话。\")\n",
    "while True:\n",
    "    user_input = input(\"You: \")\n",
    "    if user_input.lower() in ['exit', 'quit']:\n",
    "        break\n",
    "    reply = session.get_response(user_input)\n",
    "    print(\"AI:\", reply)"
   ]
  },
  {
   "cell_type": "markdown",
   "id": "f0039960-8b0c-453d-963d-ae4f09a6f903",
   "metadata": {},
   "source": [
    "## DeepSeek-Reasoner"
   ]
  },
  {
   "cell_type": "markdown",
   "id": "021ca2d2-21f6-45e5-ae8e-f037906201be",
   "metadata": {},
   "source": [
    "### 单轮对话"
   ]
  },
  {
   "cell_type": "code",
   "execution_count": null,
   "id": "1fe0cd25-e290-4f23-b99b-e98f391091f5",
   "metadata": {},
   "outputs": [],
   "source": [
    "completion = client.chat.completions.create(\n",
    "    model=\"deepseek-r1\",\n",
    "    messages=[\n",
    "        {'role': 'system', 'content': 'You are a helpful assistant.'}, \n",
    "        {'role': 'user', 'content': '你是谁？'}\n",
    "    ]\n",
    ")\n",
    "\n",
    "# 获取推理思考过程和模型回复\n",
    "reasoning_content = completion.choices[0].message.reasoning_content\n",
    "content = completion.choices[0].message.content\n",
    "\n",
    "print(f\"===== 模型推理过程 =====\\n{reasoning_content}\\n\")\n",
    "print(f\"===== 模型回复 =====\\n{content}\\n\")"
   ]
  },
  {
   "cell_type": "markdown",
   "id": "e89e32e5-2fbc-4172-b519-ff0dd50c5ca2",
   "metadata": {},
   "source": [
    "### 两轮对话"
   ]
  },
  {
   "cell_type": "code",
   "execution_count": null,
   "id": "a472056d-100c-41b2-87a3-11b48429a2fb",
   "metadata": {},
   "outputs": [],
   "source": [
    "# 初始化对话历史，包含系统消息\n",
    "messages = [{'role': 'system', 'content': 'You are a helpful assistant.'}]\n",
    "\n",
    "# 第一轮对话\n",
    "messages.append({'role': 'user', 'content': '9.11 和 9.8 哪个更大？'})\n",
    "completion = client.chat.completions.create(\n",
    "    model=\"deepseek-r1\",\n",
    "    messages=messages\n",
    ")\n",
    "# 获取推理思考过程和模型回复\n",
    "reasoning_content = completion.choices[0].message.reasoning_content\n",
    "content = completion.choices[0].message.content\n",
    "\n",
    "print(f\"===== 第一轮推理过程 =====\\n{reasoning_content}\\n\")\n",
    "print(f\"===== 模型回复 =====\\nAI: {content}\\n\")\n",
    "\n",
    "# 只将最终的回复（content）加入对话历史\n",
    "messages.append({'role': 'assistant', 'content': content})\n",
    "\n",
    "# 第二轮对话\n",
    "messages.append({'role': 'user', 'content': '刚刚针对哪两个数值进行了比较？'})\n",
    "completion = client.chat.completions.create(\n",
    "    model=\"deepseek-r1\",\n",
    "    messages=messages\n",
    ")\n",
    "# 获取推理思考过程和模型回复\n",
    "reasoning_content = completion.choices[0].message.reasoning_content\n",
    "content = completion.choices[0].message.content\n",
    "\n",
    "print(f\"===== 第二轮推理过程 =====\\n{reasoning_content}\\n\")\n",
    "print(f\"===== 模型回复 =====\\nAI: {content}\\n\")"
   ]
  },
  {
   "cell_type": "markdown",
   "id": "bd05db35-06b8-4671-b632-dc84f3faa471",
   "metadata": {},
   "source": [
    "### 多轮对话"
   ]
  },
  {
   "cell_type": "code",
   "execution_count": null,
   "id": "8622d231-dae3-45e8-baae-6d2c78780a76",
   "metadata": {},
   "outputs": [],
   "source": [
    "# 初始化对话历史，包含系统消息\n",
    "messages = [{'role': 'system', 'content': 'You are a helpful assistant.'}]\n",
    "\n",
    "print(\"开始对话（Reasoner），输入 'exit' 或 'quit' 结束对话。\")\n",
    "while True:\n",
    "    user_input = input(\"You：\")\n",
    "    if user_input.lower() in ['exit', 'quit']:\n",
    "        break\n",
    "\n",
    "    # 1. 记录用户输入\n",
    "    messages.append({'role': 'user', 'content': user_input})\n",
    "\n",
    "    # 2. 调用 API\n",
    "    completion = client.chat.completions.create(\n",
    "        model=\"deepseek-r1\",\n",
    "        messages=messages\n",
    "    )\n",
    "    reasoning_content = completion.choices[0].message.reasoning_content\n",
    "    content = completion.choices[0].message.content\n",
    "\n",
    "    # 3. 输出推理思考过程与最终回复\n",
    "    print(f\"===== 推理过程 =====\\n{reasoning_content}\\n\")\n",
    "    print(f\"===== 模型回复 =====\\nAI: {content}\\n\")\n",
    "\n",
    "    # 4. 只将模型的最终回复写入到历史消息中\n",
    "    messages.append({'role': 'assistant', 'content': content})"
   ]
  },
  {
   "cell_type": "markdown",
   "id": "9c4eca43-71aa-4226-a6c7-eb414aebe0f2",
   "metadata": {},
   "source": [
    "### 封装对话逻辑"
   ]
  },
  {
   "cell_type": "code",
   "execution_count": null,
   "id": "866b4c99-7d4d-412c-9d1b-0dd12d7310e9",
   "metadata": {},
   "outputs": [],
   "source": [
    "class ReasonerSession:\n",
    "    def __init__(self, client, system_message=\"You are a helpful assistant.\"):\n",
    "        \"\"\"\n",
    "        参数:\n",
    "            client (openai.OpenAI): OpenAI 客户端实例\n",
    "            system_message (str): 系统消息，用于设定对话背景\n",
    "        \"\"\"\n",
    "        self.client = client\n",
    "        self.messages = [{'role': 'system', 'content': system_message}]\n",
    "\n",
    "    def append_message(self, role, content):\n",
    "        \"\"\"\n",
    "        添加一条对话消息\n",
    "        参数:\n",
    "            role (str): 消息角色，为 'user' 或 'assistant'\n",
    "            content (str): 消息内容\n",
    "        \"\"\"\n",
    "        self.messages.append({'role': role, 'content': content})\n",
    "\n",
    "    def get_response(self, user_input):\n",
    "        \"\"\"\n",
    "        添加用户消息，调用 API 获取思维链和回复，并将回复加入历史记录\n",
    "        参数:\n",
    "            user_input (str): 用户输入的消息\n",
    "        返回:\n",
    "            (reasoning_content, content) (tuple): 模型的推理过程和回复\n",
    "        \"\"\"\n",
    "        # 1. 记录用户输入\n",
    "        self.append_message('user', user_input)\n",
    "\n",
    "        # 2. 调用 API\n",
    "        completion = self.client.chat.completions.create(\n",
    "            model=\"deepseek-r1\",\n",
    "            messages=self.messages\n",
    "        )\n",
    "\n",
    "        # 3. 获取推理思考过程和最终回复\n",
    "        reasoning_content = completion.choices[0].message.reasoning_content\n",
    "        content = completion.choices[0].message.content\n",
    "\n",
    "        # 4. 只将模型的最终回复加入到历史消息\n",
    "        self.append_message('assistant', content)\n",
    "\n",
    "        return reasoning_content, content\n",
    "\n",
    "\n",
    "# 初始化推理会话，采用默认的系统消息\n",
    "session = ReasonerSession(client)\n",
    "\n",
    "print(\"开始对话（Reasoner），输入 'exit' 或 'quit' 结束对话。\")\n",
    "while True:\n",
    "    user_input = input(\"You：\")\n",
    "    if user_input.lower() in ['exit', 'quit']:  # 退出条件\n",
    "        break\n",
    "\n",
    "    reasoning, reply = session.get_response(user_input)\n",
    "    print(f\"===== 推理过程 =====\\n{reasoning}\\n\")\n",
    "    print(f\"===== AI回复 =====\\nAI: {reply}\\n\")"
   ]
  },
  {
   "cell_type": "markdown",
   "id": "c196c658-9054-4aaf-89ec-aa715bd8f1e3",
   "metadata": {
    "jp-MarkdownHeadingCollapsed": true
   },
   "source": [
    "# 百度智能云"
   ]
  },
  {
   "cell_type": "markdown",
   "id": "c2eadd99-8d5f-4e9b-9763-e7a2fb672d19",
   "metadata": {},
   "source": [
    "## DeepSeek-Chat"
   ]
  },
  {
   "cell_type": "code",
   "execution_count": null,
   "id": "4a28226b-1a13-422d-9c50-cddfd7447bb9",
   "metadata": {},
   "outputs": [],
   "source": [
    "from openai import OpenAI\n",
    "import os\n",
    "\n",
    "# 临时环境变量配置\n",
    "os.environ[\"BAIDU_API_KEY\"] = \"your-api-key\"\n",
    "\n",
    "client = OpenAI(\n",
    "    api_key=os.getenv(\"BAIDU_API_KEY\"),\n",
    "    base_url=\"https://qianfan.baidubce.com/v2\",\n",
    ")"
   ]
  },
  {
   "cell_type": "markdown",
   "id": "0b35207b-cb22-445f-9b7e-3b26d09b5f07",
   "metadata": {},
   "source": [
    "### 单轮对话"
   ]
  },
  {
   "cell_type": "code",
   "execution_count": null,
   "id": "44ac6e82-7408-41b2-b7a1-28698b536de3",
   "metadata": {},
   "outputs": [],
   "source": [
    "# 单轮对话示例\n",
    "completion = client.chat.completions.create(\n",
    "    model=\"deepseek-v3\",\n",
    "    messages=[\n",
    "        {'role': 'system', 'content': 'You are a helpful assistant.'}, \n",
    "        {'role': 'user', 'content': '你是谁？'}\n",
    "    ]\n",
    ")\n",
    "\n",
    "# 打印模型消息\n",
    "print(completion.choices[0].message.content)"
   ]
  },
  {
   "cell_type": "markdown",
   "id": "becbede1-d20c-4779-aeba-32a8704a4e62",
   "metadata": {},
   "source": [
    "### 两轮对话"
   ]
  },
  {
   "cell_type": "code",
   "execution_count": null,
   "id": "4c0ee0cb-cd8a-4268-9d59-7c0a8f006948",
   "metadata": {},
   "outputs": [],
   "source": [
    "# 初始化对话历史，包含系统消息\n",
    "messages = [{'role': 'system', 'content': 'You are a helpful assistant.'}]\n",
    "\n",
    "# 第一轮对话\n",
    "messages.append({'role': 'user', 'content': '9.11 和 9.8 哪个更大？'})\n",
    "completion = client.chat.completions.create(\n",
    "    model=\"deepseek-v3\",\n",
    "    messages=messages\n",
    ")\n",
    "content = completion.choices[0].message.content\n",
    "print(\"AI:\", content)\n",
    "\n",
    "# 将第一轮模型回复加入历史记录\n",
    "messages.append({'role': 'assistant', 'content': content})\n",
    "\n",
    "# 第二轮对话\n",
    "messages.append({'role': 'user', 'content': '刚刚针对哪两个数值进行了比较？'})\n",
    "completion = client.chat.completions.create(\n",
    "    model=\"deepseek-v3\",\n",
    "    messages=messages\n",
    ")\n",
    "content = completion.choices[0].message.content\n",
    "print(\"AI:\", content)"
   ]
  },
  {
   "cell_type": "markdown",
   "id": "69a9ea1b-d3a1-47ea-8663-adf063d14a85",
   "metadata": {},
   "source": [
    "### 多轮对话"
   ]
  },
  {
   "cell_type": "code",
   "execution_count": null,
   "id": "2adeea2e-34ca-4d6c-b336-6953a2a792d1",
   "metadata": {},
   "outputs": [],
   "source": [
    "# 初始化对话历史，包含系统消息\n",
    "messages = [{'role': 'system', 'content': 'You are a helpful assistant.'}]\n",
    "\n",
    "print(\"开始对话，输入 'exit' 或 'quit' 结束对话。\")\n",
    "while True:\n",
    "    # 获取用户输入\n",
    "    user_input = input(\"You：\")\n",
    "    if user_input.lower() in ['exit', 'quit']:  # 退出条件\n",
    "        break\n",
    "        \n",
    "    # 记录用户输入\n",
    "    messages.append({'role': 'user', 'content': user_input})\n",
    "    \n",
    "    # 调用 API 获取模型回复\n",
    "    completion = client.chat.completions.create(\n",
    "        model=\"deepseek-v3\",\n",
    "        messages=messages\n",
    "    )\n",
    "    content = completion.choices[0].message.content\n",
    "    print(\"AI:\", content)\n",
    "    \n",
    "    # 记录模型回复\n",
    "    messages.append({'role': 'assistant', 'content': content})"
   ]
  },
  {
   "cell_type": "markdown",
   "id": "c443c69b-e9cb-4a73-b7db-8c075806f2e1",
   "metadata": {},
   "source": [
    "### 封装对话逻辑"
   ]
  },
  {
   "cell_type": "code",
   "execution_count": null,
   "id": "fbf27e5a-51fb-41f0-ae74-efe01bb46cb5",
   "metadata": {},
   "outputs": [],
   "source": [
    "class ChatSession:\n",
    "    def __init__(self, client, system_message=\"You are a helpful assistant.\"):\n",
    "        \"\"\"\n",
    "        参数:\n",
    "            client (openai.OpenAI): OpenAI 客户端实例\n",
    "            system_message (str): 系统消息，用于设定对话背景\n",
    "        \"\"\"\n",
    "        self.client = client\n",
    "        self.messages = [{'role': 'system', 'content': system_message}]\n",
    "\n",
    "    def append_message(self, role, content):\n",
    "        \"\"\"\n",
    "        添加一条对话消息\n",
    "        参数:\n",
    "            role (str): 消息角色，为 'user' 或 'assistant'\n",
    "            content (str): 消息内容\n",
    "        \"\"\"\n",
    "        self.messages.append({'role': role, 'content': content})\n",
    "\n",
    "    def get_response(self, user_input):\n",
    "        \"\"\"\n",
    "        添加用户消息，调用 API 获取回复，并将回复加入历史记录\n",
    "        参数:\n",
    "            user_input (str): 用户输入的消息\n",
    "        返回:\n",
    "            content (str): 模型的回复内容\n",
    "        \"\"\"\n",
    "        self.append_message('user', user_input)\n",
    "        completion = self.client.chat.completions.create(\n",
    "            model=\"deepseek-v3\",\n",
    "            messages=self.messages\n",
    "        )\n",
    "        content = completion.choices[0].message.content\n",
    "        self.append_message('assistant', content)\n",
    "        return content\n",
    "\n",
    "\n",
    "# 初始化对话会话，采用默认的系统消息\n",
    "session = ChatSession(client)\n",
    "\n",
    "print(\"开始对话，输入 'exit' 或 'quit' 结束对话。\")\n",
    "while True:\n",
    "    user_input = input(\"You: \")\n",
    "    if user_input.lower() in ['exit', 'quit']:\n",
    "        break\n",
    "    reply = session.get_response(user_input)\n",
    "    print(\"AI:\", reply)"
   ]
  },
  {
   "cell_type": "markdown",
   "id": "1b9e5536-06f8-4701-bc03-c7a5ec13728a",
   "metadata": {},
   "source": [
    "## DeepSeek-Reasoner"
   ]
  },
  {
   "cell_type": "markdown",
   "id": "54a64dd4-30cd-4666-ad7c-d0cb012ef154",
   "metadata": {},
   "source": [
    "### 单轮对话"
   ]
  },
  {
   "cell_type": "code",
   "execution_count": null,
   "id": "68262aa1-14a4-4013-9461-d2fc2ce7cff2",
   "metadata": {},
   "outputs": [],
   "source": [
    "completion = client.chat.completions.create(\n",
    "    model=\"deepseek-r1\",\n",
    "    messages=[\n",
    "        {'role': 'system', 'content': 'You are a helpful assistant.'}, \n",
    "        {'role': 'user', 'content': '你是谁？'}\n",
    "    ]\n",
    ")\n",
    "\n",
    "# 获取推理思考过程和模型回复\n",
    "reasoning_content = completion.choices[0].message.reasoning_content\n",
    "content = completion.choices[0].message.content\n",
    "\n",
    "print(f\"===== 模型推理过程 =====\\n{reasoning_content}\\n\")\n",
    "print(f\"===== 模型回复 =====\\n{content}\\n\")"
   ]
  },
  {
   "cell_type": "markdown",
   "id": "8d49695d-a3fa-40ea-a95d-ec5a7b5a56c2",
   "metadata": {},
   "source": [
    "### 两轮对话"
   ]
  },
  {
   "cell_type": "code",
   "execution_count": null,
   "id": "c88b932a-430e-4e0b-a8e7-798810a149a2",
   "metadata": {},
   "outputs": [],
   "source": [
    "# 初始化对话历史，包含系统消息\n",
    "messages = [{'role': 'system', 'content': 'You are a helpful assistant.'}]\n",
    "\n",
    "# 第一轮对话\n",
    "messages.append({'role': 'user', 'content': '9.11 和 9.8 哪个更大？'})\n",
    "completion = client.chat.completions.create(\n",
    "    model=\"deepseek-r1\",\n",
    "    messages=messages\n",
    ")\n",
    "# 获取推理思考过程和模型回复\n",
    "reasoning_content = completion.choices[0].message.reasoning_content\n",
    "content = completion.choices[0].message.content\n",
    "\n",
    "print(f\"===== 第一轮推理过程 =====\\n{reasoning_content}\\n\")\n",
    "print(f\"===== 模型回复 =====\\nAI: {content}\\n\")\n",
    "\n",
    "# 只将最终的回复（content）加入对话历史\n",
    "messages.append({'role': 'assistant', 'content': content})\n",
    "\n",
    "# 第二轮对话\n",
    "messages.append({'role': 'user', 'content': '刚刚针对哪两个数值进行了比较？'})\n",
    "completion = client.chat.completions.create(\n",
    "    model=\"deepseek-r1\",\n",
    "    messages=messages\n",
    ")\n",
    "# 获取推理思考过程和模型回复\n",
    "reasoning_content = completion.choices[0].message.reasoning_content\n",
    "content = completion.choices[0].message.content\n",
    "\n",
    "print(f\"===== 第二轮推理过程 =====\\n{reasoning_content}\\n\")\n",
    "print(f\"===== 模型回复 =====\\nAI: {content}\\n\")"
   ]
  },
  {
   "cell_type": "markdown",
   "id": "2cf8d1e8-45ef-484a-bb9f-bdc794183482",
   "metadata": {},
   "source": [
    "### 多轮对话"
   ]
  },
  {
   "cell_type": "code",
   "execution_count": null,
   "id": "5af4cce2-b5db-4138-989b-53ebceee6902",
   "metadata": {},
   "outputs": [],
   "source": [
    "# 初始化对话历史，包含系统消息\n",
    "messages = [{'role': 'system', 'content': 'You are a helpful assistant.'}]\n",
    "\n",
    "print(\"开始对话（Reasoner），输入 'exit' 或 'quit' 结束对话。\")\n",
    "while True:\n",
    "    user_input = input(\"You：\")\n",
    "    if user_input.lower() in ['exit', 'quit']:\n",
    "        break\n",
    "\n",
    "    # 1. 记录用户输入\n",
    "    messages.append({'role': 'user', 'content': user_input})\n",
    "\n",
    "    # 2. 调用 API\n",
    "    completion = client.chat.completions.create(\n",
    "        model=\"deepseek-r1\",\n",
    "        messages=messages\n",
    "    )\n",
    "    reasoning_content = completion.choices[0].message.reasoning_content\n",
    "    content = completion.choices[0].message.content\n",
    "\n",
    "    # 3. 输出推理思考过程与最终回复\n",
    "    print(f\"===== 推理过程 =====\\n{reasoning_content}\\n\")\n",
    "    print(f\"===== 模型回复 =====\\nAI: {content}\\n\")\n",
    "\n",
    "    # 4. 只将模型的最终回复写入到历史消息中\n",
    "    messages.append({'role': 'assistant', 'content': content})"
   ]
  },
  {
   "cell_type": "markdown",
   "id": "f16b814d-ffbe-4c69-8fad-bd2915cdf2af",
   "metadata": {},
   "source": [
    "### 封装对话逻辑"
   ]
  },
  {
   "cell_type": "code",
   "execution_count": null,
   "id": "6c60fc72-f2f7-4b8e-a11c-510868225aac",
   "metadata": {},
   "outputs": [],
   "source": [
    "class ReasonerSession:\n",
    "    def __init__(self, client, system_message=\"You are a helpful assistant.\"):\n",
    "        \"\"\"\n",
    "        参数:\n",
    "            client (openai.OpenAI): OpenAI 客户端实例\n",
    "            system_message (str): 系统消息，用于设定对话背景\n",
    "        \"\"\"\n",
    "        self.client = client\n",
    "        self.messages = [{'role': 'system', 'content': system_message}]\n",
    "\n",
    "    def append_message(self, role, content):\n",
    "        \"\"\"\n",
    "        添加一条对话消息\n",
    "        参数:\n",
    "            role (str): 消息角色，为 'user' 或 'assistant'\n",
    "            content (str): 消息内容\n",
    "        \"\"\"\n",
    "        self.messages.append({'role': role, 'content': content})\n",
    "\n",
    "    def get_response(self, user_input):\n",
    "        \"\"\"\n",
    "        添加用户消息，调用 API 获取思维链和回复，并将回复加入历史记录\n",
    "        参数:\n",
    "            user_input (str): 用户输入的消息\n",
    "        返回:\n",
    "            (reasoning_content, content) (tuple): 模型的推理过程和回复\n",
    "        \"\"\"\n",
    "        # 1. 记录用户输入\n",
    "        self.append_message('user', user_input)\n",
    "\n",
    "        # 2. 调用 API\n",
    "        completion = self.client.chat.completions.create(\n",
    "            model=\"deepseek-r1\",\n",
    "            messages=self.messages\n",
    "        )\n",
    "\n",
    "        # 3. 获取推理思考过程和最终回复\n",
    "        reasoning_content = completion.choices[0].message.reasoning_content\n",
    "        content = completion.choices[0].message.content\n",
    "\n",
    "        # 4. 只将模型的最终回复加入到历史消息\n",
    "        self.append_message('assistant', content)\n",
    "\n",
    "        return reasoning_content, content\n",
    "\n",
    "\n",
    "# 初始化推理会话，采用默认的系统消息\n",
    "session = ReasonerSession(client)\n",
    "\n",
    "print(\"开始对话（Reasoner），输入 'exit' 或 'quit' 结束对话。\")\n",
    "while True:\n",
    "    user_input = input(\"You：\")\n",
    "    if user_input.lower() in ['exit', 'quit']:  # 退出条件\n",
    "        break\n",
    "\n",
    "    reasoning, reply = session.get_response(user_input)\n",
    "    print(f\"===== 推理过程 =====\\n{reasoning}\\n\")\n",
    "    print(f\"===== AI回复 =====\\nAI: {reply}\\n\")"
   ]
  },
  {
   "cell_type": "markdown",
   "id": "3e531cf4-a20e-4647-9bc1-0389b6caaab2",
   "metadata": {},
   "source": [
    "# 字节火山引擎"
   ]
  },
  {
   "cell_type": "markdown",
   "id": "ffde8cc5-4f58-4ad8-8e02-59ad0b084c66",
   "metadata": {},
   "source": [
    "## DeepSeek-Chat"
   ]
  },
  {
   "cell_type": "code",
   "execution_count": null,
   "id": "4d59241c-2c82-4dd3-9b9d-0c1ea3ebb1b0",
   "metadata": {},
   "outputs": [],
   "source": [
    "from openai import OpenAI\n",
    "import os\n",
    "\n",
    "# 临时环境变量配置\n",
    "os.environ[\"ARK_API_KEY\"] = \"your-api-key\"\n",
    "\n",
    "client = OpenAI(\n",
    "    api_key=os.getenv(\"ARK_API_KEY\"),\n",
    "    base_url=\"https://ark.cn-beijing.volces.com/api/v3\",\n",
    ")"
   ]
  },
  {
   "cell_type": "markdown",
   "id": "79b317e8-c526-49c1-bca8-7fa18cadd1d7",
   "metadata": {},
   "source": [
    "### 单轮对话"
   ]
  },
  {
   "cell_type": "code",
   "execution_count": null,
   "id": "a1b0169f-23d9-4d18-81f5-687c1031ab4e",
   "metadata": {},
   "outputs": [],
   "source": [
    "# 单轮对话示例\n",
    "completion = client.chat.completions.create(\n",
    "    model=\"deepseek-v3-241226\",\n",
    "    messages=[\n",
    "        {'role': 'system', 'content': 'You are a helpful assistant.'}, \n",
    "        {'role': 'user', 'content': '你是谁？'}\n",
    "    ]\n",
    ")\n",
    "\n",
    "# 打印模型消息\n",
    "print(completion.choices[0].message.content)"
   ]
  },
  {
   "cell_type": "markdown",
   "id": "a75f4439-1aff-4a42-ac40-b4da3af4ead5",
   "metadata": {},
   "source": [
    "### 两轮对话"
   ]
  },
  {
   "cell_type": "code",
   "execution_count": null,
   "id": "9c5d8560-2d45-431a-9eff-dc86c49c9fed",
   "metadata": {},
   "outputs": [],
   "source": [
    "# 初始化对话历史，包含系统消息\n",
    "messages = [{'role': 'system', 'content': 'You are a helpful assistant.'}]\n",
    "\n",
    "# 第一轮对话\n",
    "messages.append({'role': 'user', 'content': '9.11 和 9.8 哪个更大？'})\n",
    "completion = client.chat.completions.create(\n",
    "    model=\"deepseek-v3-241226\",\n",
    "    messages=messages\n",
    ")\n",
    "content = completion.choices[0].message.content\n",
    "print(\"AI:\", content)\n",
    "\n",
    "# 将第一轮模型回复加入历史记录\n",
    "messages.append({'role': 'assistant', 'content': content})\n",
    "\n",
    "# 第二轮对话\n",
    "messages.append({'role': 'user', 'content': '刚刚针对哪两个数值进行了比较？'})\n",
    "completion = client.chat.completions.create(\n",
    "    model=\"deepseek-v3-241226\",\n",
    "    messages=messages\n",
    ")\n",
    "content = completion.choices[0].message.content\n",
    "print(\"AI:\", content)"
   ]
  },
  {
   "cell_type": "markdown",
   "id": "03a01d98-2b66-4452-af45-96a69803273b",
   "metadata": {},
   "source": [
    "### 多轮对话"
   ]
  },
  {
   "cell_type": "code",
   "execution_count": null,
   "id": "6a330243-c55f-4c3d-9090-50f4279c30c3",
   "metadata": {},
   "outputs": [],
   "source": [
    "# 初始化对话历史，包含系统消息\n",
    "messages = [{'role': 'system', 'content': 'You are a helpful assistant.'}]\n",
    "\n",
    "print(\"开始对话，输入 'exit' 或 'quit' 结束对话。\")\n",
    "while True:\n",
    "    # 获取用户输入\n",
    "    user_input = input(\"You：\")\n",
    "    if user_input.lower() in ['exit', 'quit']:  # 退出条件\n",
    "        break\n",
    "        \n",
    "    # 记录用户输入\n",
    "    messages.append({'role': 'user', 'content': user_input})\n",
    "    \n",
    "    # 调用 API 获取模型回复\n",
    "    completion = client.chat.completions.create(\n",
    "        model=\"deepseek-v3-241226\",\n",
    "        messages=messages\n",
    "    )\n",
    "    content = completion.choices[0].message.content\n",
    "    print(\"AI:\", content)\n",
    "    \n",
    "    # 记录模型回复\n",
    "    messages.append({'role': 'assistant', 'content': content})"
   ]
  },
  {
   "cell_type": "markdown",
   "id": "20ade4bd-bd3e-4c7a-8ac8-b35394b6fc40",
   "metadata": {},
   "source": [
    "### 封装对话逻辑"
   ]
  },
  {
   "cell_type": "code",
   "execution_count": null,
   "id": "d984c929-e834-4fdc-8747-5f444abca036",
   "metadata": {},
   "outputs": [],
   "source": [
    "class ChatSession:\n",
    "    def __init__(self, client, system_message=\"You are a helpful assistant.\"):\n",
    "        \"\"\"\n",
    "        参数:\n",
    "            client (openai.OpenAI): OpenAI 客户端实例\n",
    "            system_message (str): 系统消息，用于设定对话背景\n",
    "        \"\"\"\n",
    "        self.client = client\n",
    "        self.messages = [{'role': 'system', 'content': system_message}]\n",
    "\n",
    "    def append_message(self, role, content):\n",
    "        \"\"\"\n",
    "        添加一条对话消息\n",
    "        参数:\n",
    "            role (str): 消息角色，为 'user' 或 'assistant'\n",
    "            content (str): 消息内容\n",
    "        \"\"\"\n",
    "        self.messages.append({'role': role, 'content': content})\n",
    "\n",
    "    def get_response(self, user_input):\n",
    "        \"\"\"\n",
    "        添加用户消息，调用 API 获取回复，并将回复加入历史记录\n",
    "        参数:\n",
    "            user_input (str): 用户输入的消息\n",
    "        返回:\n",
    "            content (str): 模型的回复内容\n",
    "        \"\"\"\n",
    "        self.append_message('user', user_input)\n",
    "        completion = self.client.chat.completions.create(\n",
    "            model=\"deepseek-v3-241226\",\n",
    "            messages=self.messages\n",
    "        )\n",
    "        content = completion.choices[0].message.content\n",
    "        self.append_message('assistant', content)\n",
    "        return content\n",
    "\n",
    "\n",
    "# 初始化对话会话，采用默认的系统消息\n",
    "session = ChatSession(client)\n",
    "\n",
    "print(\"开始对话，输入 'exit' 或 'quit' 结束对话。\")\n",
    "while True:\n",
    "    user_input = input(\"You: \")\n",
    "    if user_input.lower() in ['exit', 'quit']:\n",
    "        break\n",
    "    reply = session.get_response(user_input)\n",
    "    print(\"AI:\", reply)"
   ]
  },
  {
   "cell_type": "markdown",
   "id": "92ce4689-2261-499c-8519-d27c3edcf1c5",
   "metadata": {},
   "source": [
    "## DeepSeek-Reasoner"
   ]
  },
  {
   "cell_type": "markdown",
   "id": "1624fcf7-d91b-41c2-be58-8f9f51043a01",
   "metadata": {},
   "source": [
    "### 单轮对话"
   ]
  },
  {
   "cell_type": "code",
   "execution_count": null,
   "id": "57e4f515-589a-44ba-b283-a3c920323926",
   "metadata": {},
   "outputs": [],
   "source": [
    "completion = client.chat.completions.create(\n",
    "    model=\"deepseek-r1-250120\",\n",
    "    messages=[\n",
    "        {'role': 'system', 'content': 'You are a helpful assistant.'}, \n",
    "        {'role': 'user', 'content': '你是谁？'}\n",
    "    ]\n",
    ")\n",
    "\n",
    "# 获取推理思考过程和模型回复\n",
    "reasoning_content = completion.choices[0].message.reasoning_content\n",
    "content = completion.choices[0].message.content\n",
    "\n",
    "print(f\"===== 模型推理过程 =====\\n{reasoning_content}\\n\")\n",
    "print(f\"===== 模型回复 =====\\n{content}\\n\")"
   ]
  },
  {
   "cell_type": "markdown",
   "id": "9fa07faa-a1b0-4f11-bcac-937b44e69d59",
   "metadata": {},
   "source": [
    "### 两轮对话"
   ]
  },
  {
   "cell_type": "code",
   "execution_count": null,
   "id": "be56e2e6-5336-46c0-a48d-033f2afc9812",
   "metadata": {},
   "outputs": [],
   "source": [
    "# 初始化对话历史，包含系统消息\n",
    "messages = [{'role': 'system', 'content': 'You are a helpful assistant.'}]\n",
    "\n",
    "# 第一轮对话\n",
    "messages.append({'role': 'user', 'content': '9.11 和 9.8 哪个更大？'})\n",
    "completion = client.chat.completions.create(\n",
    "    model=\"deepseek-r1-250120\",\n",
    "    messages=messages\n",
    ")\n",
    "# 获取推理思考过程和模型回复\n",
    "reasoning_content = completion.choices[0].message.reasoning_content\n",
    "content = completion.choices[0].message.content\n",
    "\n",
    "print(f\"===== 第一轮推理过程 =====\\n{reasoning_content}\\n\")\n",
    "print(f\"===== 模型回复 =====\\nAI: {content}\\n\")\n",
    "\n",
    "# 只将最终的回复（content）加入对话历史\n",
    "messages.append({'role': 'assistant', 'content': content})\n",
    "\n",
    "# 第二轮对话\n",
    "messages.append({'role': 'user', 'content': '刚刚针对哪两个数值进行了比较？'})\n",
    "completion = client.chat.completions.create(\n",
    "    model=\"deepseek-r1-250120\",\n",
    "    messages=messages\n",
    ")\n",
    "# 获取推理思考过程和模型回复\n",
    "reasoning_content = completion.choices[0].message.reasoning_content\n",
    "content = completion.choices[0].message.content\n",
    "\n",
    "print(f\"===== 第二轮推理过程 =====\\n{reasoning_content}\\n\")\n",
    "print(f\"===== 模型回复 =====\\nAI: {content}\\n\")"
   ]
  },
  {
   "cell_type": "markdown",
   "id": "0fef03e7-de0a-4c3d-9c49-eaed07d24a08",
   "metadata": {},
   "source": [
    "### 多轮对话"
   ]
  },
  {
   "cell_type": "code",
   "execution_count": null,
   "id": "6b522d2f-f264-48dd-ae2d-8a7dc918e387",
   "metadata": {},
   "outputs": [],
   "source": [
    "# 初始化对话历史，包含系统消息\n",
    "messages = [{'role': 'system', 'content': 'You are a helpful assistant.'}]\n",
    "\n",
    "print(\"开始对话（Reasoner），输入 'exit' 或 'quit' 结束对话。\")\n",
    "while True:\n",
    "    user_input = input(\"You：\")\n",
    "    if user_input.lower() in ['exit', 'quit']:\n",
    "        break\n",
    "\n",
    "    # 1. 记录用户输入\n",
    "    messages.append({'role': 'user', 'content': user_input})\n",
    "\n",
    "    # 2. 调用 API\n",
    "    completion = client.chat.completions.create(\n",
    "        model=\"deepseek-r1-250120\",\n",
    "        messages=messages\n",
    "    )\n",
    "    reasoning_content = completion.choices[0].message.reasoning_content\n",
    "    content = completion.choices[0].message.content\n",
    "\n",
    "    # 3. 输出推理思考过程与最终回复\n",
    "    print(f\"===== 推理过程 =====\\n{reasoning_content}\\n\")\n",
    "    print(f\"===== 模型回复 =====\\nAI: {content}\\n\")\n",
    "\n",
    "    # 4. 只将模型的最终回复写入到历史消息中\n",
    "    messages.append({'role': 'assistant', 'content': content})"
   ]
  },
  {
   "cell_type": "markdown",
   "id": "0577a773-f052-409b-bf36-e5733b40e4a2",
   "metadata": {},
   "source": [
    "### 封装对话逻辑"
   ]
  },
  {
   "cell_type": "code",
   "execution_count": null,
   "id": "f1f23a67-d853-4d84-a8f0-51c83b0d1ceb",
   "metadata": {},
   "outputs": [],
   "source": [
    "class ReasonerSession:\n",
    "    def __init__(self, client, system_message=\"You are a helpful assistant.\"):\n",
    "        \"\"\"\n",
    "        参数:\n",
    "            client (openai.OpenAI): OpenAI 客户端实例\n",
    "            system_message (str): 系统消息，用于设定对话背景\n",
    "        \"\"\"\n",
    "        self.client = client\n",
    "        self.messages = [{'role': 'system', 'content': system_message}]\n",
    "\n",
    "    def append_message(self, role, content):\n",
    "        \"\"\"\n",
    "        添加一条对话消息\n",
    "        参数:\n",
    "            role (str): 消息角色，为 'user' 或 'assistant'\n",
    "            content (str): 消息内容\n",
    "        \"\"\"\n",
    "        self.messages.append({'role': role, 'content': content})\n",
    "\n",
    "    def get_response(self, user_input):\n",
    "        \"\"\"\n",
    "        添加用户消息，调用 API 获取思维链和回复，并将回复加入历史记录\n",
    "        参数:\n",
    "            user_input (str): 用户输入的消息\n",
    "        返回:\n",
    "            (reasoning_content, content) (tuple): 模型的推理过程和回复\n",
    "        \"\"\"\n",
    "        # 1. 记录用户输入\n",
    "        self.append_message('user', user_input)\n",
    "\n",
    "        # 2. 调用 API\n",
    "        completion = self.client.chat.completions.create(\n",
    "            model=\"deepseek-r1-250120\",\n",
    "            messages=self.messages\n",
    "        )\n",
    "\n",
    "        # 3. 获取推理思考过程和最终回复\n",
    "        reasoning_content = completion.choices[0].message.reasoning_content\n",
    "        content = completion.choices[0].message.content\n",
    "\n",
    "        # 4. 只将模型的最终回复加入到历史消息\n",
    "        self.append_message('assistant', content)\n",
    "\n",
    "        return reasoning_content, content\n",
    "\n",
    "\n",
    "# 初始化推理会话，采用默认的系统消息\n",
    "session = ReasonerSession(client)\n",
    "\n",
    "print(\"开始对话（Reasoner），输入 'exit' 或 'quit' 结束对话。\")\n",
    "while True:\n",
    "    user_input = input(\"You：\")\n",
    "    if user_input.lower() in ['exit', 'quit']:  # 退出条件\n",
    "        break\n",
    "\n",
    "    reasoning, reply = session.get_response(user_input)\n",
    "    print(f\"===== 推理过程 =====\\n{reasoning}\\n\")\n",
    "    print(f\"===== AI回复 =====\\nAI: {reply}\\n\")"
   ]
  }
 ],
 "metadata": {
  "kernelspec": {
   "display_name": "Python 3 (ipykernel)",
   "language": "python",
   "name": "python3"
  },
  "language_info": {
   "codemirror_mode": {
    "name": "ipython",
    "version": 3
   },
   "file_extension": ".py",
   "mimetype": "text/x-python",
   "name": "python",
   "nbconvert_exporter": "python",
   "pygments_lexer": "ipython3",
   "version": "3.9.16"
  }
 },
 "nbformat": 4,
 "nbformat_minor": 5
}
