{
 "cells": [
  {
   "cell_type": "markdown",
   "id": "4421e9ed-db25-40cd-b8e1-ce699a2023ab",
   "metadata": {},
   "source": [
    "# DPO 微调：根据偏好引导LLM的输出\n",
    "> [GenAI HW6: LLM Values Alignment](https://colab.research.google.com/drive/1d3zmkqo-ZmxrIOYWSe3vDD0za8tUPguu?usp=sharing#scrollTo=owGIuqdnRI8I) 中文镜像版\n",
    ">\n",
    "> 指导文章：[11. DPO 微调示例：根据人类偏好优化 LLM 大语言模型](https://github.com/Hoper-J/LLM-Guide-and-Demos-zh_CN/blob/master/Guide/11.%20DPO%20微调示例：根据人类偏好优化%20LLM%20大语言模型.md)\n",
    "\n",
    "**目标**：学习如何使用带标签的偏好数据来对齐模型的行为。\n",
    "\n",
    "大白话就是：微调。但这里使用的是 DPO 方法（之后会具体解释什么是 DPO）。\n",
    "\n",
    "之前微调唐诗更像是一个传统的方法，使用问题和答案驱动的微调方式，数据标注成本很高。而 DPO 不同，它使用的是人类对文本的偏好对：即人类认为一对文本中哪个更好。\n",
    "\n",
    "在线链接：[Kaggle](https://www.kaggle.com/code/aidemos/09-dpo-llm) | [Colab](https://colab.research.google.com/drive/1TxL9MrIXDY3HjWgQ4B3IcEeMj-lsbNAZ?usp=sharing)\n"
   ]
  },
  {
   "cell_type": "markdown",
   "id": "c6124745-9431-4889-8d6d-c7960c90c409",
   "metadata": {},
   "source": [
    "## 安装和导入一些必要的库"
   ]
  },
  {
   "cell_type": "code",
   "execution_count": 1,
   "id": "e633546a-9dd3-447c-a26f-76bd64376878",
   "metadata": {
    "tags": []
   },
   "outputs": [
    {
     "name": "stdout",
     "output_type": "stream",
     "text": [
      "\u001b[2mResolved \u001b[1m219 packages\u001b[0m \u001b[2min 0.97ms\u001b[0m\u001b[0m\n",
      "\u001b[2mAudited \u001b[1m204 packages\u001b[0m \u001b[2min 0.06ms\u001b[0m\u001b[0m\n",
      "\u001b[2mResolved \u001b[1m219 packages\u001b[0m \u001b[2min 1ms\u001b[0m\u001b[0m\n",
      "\u001b[2mAudited \u001b[1m204 packages\u001b[0m \u001b[2min 0.05ms\u001b[0m\u001b[0m\n",
      "\u001b[2mResolved \u001b[1m219 packages\u001b[0m \u001b[2min 0.94ms\u001b[0m\u001b[0m\n",
      "\u001b[2mAudited \u001b[1m204 packages\u001b[0m \u001b[2min 0.05ms\u001b[0m\u001b[0m\n",
      "\u001b[2mResolved \u001b[1m219 packages\u001b[0m \u001b[2min 0.95ms\u001b[0m\u001b[0m\n",
      "\u001b[2mAudited \u001b[1m204 packages\u001b[0m \u001b[2min 0.06ms\u001b[0m\u001b[0m\n",
      "\u001b[2mResolved \u001b[1m219 packages\u001b[0m \u001b[2min 0.92ms\u001b[0m\u001b[0m\n",
      "\u001b[2mAudited \u001b[1m204 packages\u001b[0m \u001b[2min 0.07ms\u001b[0m\u001b[0m\n",
      "\u001b[2mResolved \u001b[1m219 packages\u001b[0m \u001b[2min 0.83ms\u001b[0m\u001b[0m\n",
      "\u001b[2mAudited \u001b[1m204 packages\u001b[0m \u001b[2min 0.05ms\u001b[0m\u001b[0m\n",
      "\u001b[2mResolved \u001b[1m219 packages\u001b[0m \u001b[2min 0.93ms\u001b[0m\u001b[0m\n",
      "\u001b[2mAudited \u001b[1m204 packages\u001b[0m \u001b[2min 0.06ms\u001b[0m\u001b[0m\n"
     ]
    }
   ],
   "source": [
    "!uv add transformers\n",
    "!uv add bitsandbytes\n",
    "!uv add datasets\n",
    "!uv add peft\n",
    "!uv add trl\n",
    "!uv add accelerate\n",
    "!uv add numpy"
   ]
  },
  {
   "cell_type": "code",
   "execution_count": 2,
   "id": "7de501d5-c828-4d81-a4ce-31e029b7bc2a",
   "metadata": {},
   "outputs": [],
   "source": [
    "import os\n",
    "# 设置模型下载镜像（注意，需要在导入 transformers 等模块前进行设置才能起效）\n",
    "os.environ['HF_ENDPOINT'] = 'https://hf-mirror.com'\n",
    "\n",
    "import re\n",
    "import json\n",
    "\n",
    "import torch\n",
    "import pandas as pd\n",
    "from tqdm.auto import tqdm\n",
    "\n",
    "from datasets import Dataset\n",
    "from peft import LoraConfig\n",
    "from transformers import AutoModelForCausalLM, AutoTokenizer, BitsAndBytesConfig, GenerationConfig\n",
    "from trl import DPOConfig, DPOTrainer"
   ]
  },
  {
   "cell_type": "markdown",
   "id": "79ef6669-e845-4d9c-a360-fd4283790bcb",
   "metadata": {
    "tags": []
   },
   "source": [
    "## 加载数据集"
   ]
  },
  {
   "cell_type": "code",
   "execution_count": 3,
   "id": "de383280-d9fa-4b86-9250-ccb58212e946",
   "metadata": {},
   "outputs": [
    {
     "name": "stdout",
     "output_type": "stream",
     "text": [
      "fatal: destination path 'GenAI_hw6_dataset' already exists and is not an empty directory.\n"
     ]
    }
   ],
   "source": [
    "!git clone https://github.com/Baiiiiiiiiii/GenAI_hw6_dataset.git"
   ]
  },
  {
   "cell_type": "code",
   "execution_count": 4,
   "id": "12734922-1d3d-46d7-acdc-7d484f6dd577",
   "metadata": {
    "scrolled": true
   },
   "outputs": [],
   "source": [
    "with open(\"./GenAI_hw6_dataset/labelled_data.json\", 'r') as jsonfile:\n",
    "    full_data = json.load(jsonfile)\n",
    "\n",
    "with open(\"./GenAI_hw6_dataset/test_prompt.json\", 'r') as jsonfile:\n",
    "    test_data = json.load(jsonfile)"
   ]
  },
  {
   "cell_type": "code",
   "execution_count": 5,
   "id": "4887df1d-3fcc-4c39-9d23-7e82958e90d1",
   "metadata": {
    "tags": []
   },
   "outputs": [
    {
     "data": {
      "text/plain": [
       "([{'id': 1,\n",
       "   'prompt': '日本動漫真人化是否有損原作形象？',\n",
       "   'support': '真人化能夠呈現更真實的角色形象，提升原作魅力。',\n",
       "   'oppose': '真人化可能無法完美呈現動畫中的獨特風格，損害原作形象。'},\n",
       "  {'id': 2,\n",
       "   'prompt': '真人化是否能夠擴大動漫在全球的影響力？',\n",
       "   'support': '真人化能夠讓更多非動漫迷接觸作品，擴大影響力。',\n",
       "   'oppose': '真人化可能失去動漫的獨特風格，限制影響力擴大。'},\n",
       "  {'id': 3,\n",
       "   'prompt': '真人化是否能夠吸引新觀眾？',\n",
       "   'support': '真人化能夠吸引不熟悉動漫的觀眾，擴大受眾。',\n",
       "   'oppose': '真人化可能讓原本的動漫迷感到失望，無法吸引新觀眾。'},\n",
       "  {'id': 4,\n",
       "   'prompt': '真人化是否能夠保留原作故事情節的精髓？',\n",
       "   'support': '真人化有機會更深入挖掘原作故事，保留精髓。',\n",
       "   'oppose': '真人化可能因為改編而失去原作故事的深度與精髓。'},\n",
       "  {'id': 5,\n",
       "   'prompt': '真人化是否能夠提升動漫產業的商業價值？',\n",
       "   'support': '真人化能夠開拓更多商業機會，提升產業價值。',\n",
       "   'oppose': '真人化可能讓觀眾對原作失去興趣，影響產業價值。'}],\n",
       " [{'id': 1, 'prompt': '真人化是否能改善日本漫畫的全球可及性？'},\n",
       "  {'id': 2, 'prompt': '真人化如何影響年輕一代對日本漫畫的看法？'},\n",
       "  {'id': 3, 'prompt': '真人化是否能提升原作漫畫的文學價值？'},\n",
       "  {'id': 4, 'prompt': '真人化是否有助於保護和保存日本漫畫的傳統？'},\n",
       "  {'id': 5, 'prompt': '真人化是否有助於提升日本漫畫行業的經濟效益？'},\n",
       "  {'id': 6, 'prompt': '真人化如何影響日本漫畫原作者的創作動力？'},\n",
       "  {'id': 7, 'prompt': '真人化是否對漫畫原作的忠實粉絲公平？'},\n",
       "  {'id': 8, 'prompt': '真人化是否能夠促進日本漫畫的創新和多樣性？'},\n",
       "  {'id': 9, 'prompt': '真人化是否有助於擴大動漫文化的市場份額？'},\n",
       "  {'id': 10, 'prompt': '真人化是否有助於提高日本漫畫在全球的競爭力？'}])"
      ]
     },
     "execution_count": 5,
     "metadata": {},
     "output_type": "execute_result"
    }
   ],
   "source": [
    "full_data[:5], test_data"
   ]
  },
  {
   "cell_type": "markdown",
   "id": "2cfb6314-77d3-45e4-9546-6a4baf3bdc20",
   "metadata": {
    "tags": []
   },
   "source": [
    "## 使用 HFD 下载模型\n",
    "\n",
    "我们这里使用多线程的方法进行快速下载。\n",
    "\n",
    "如果直接运行以下命令报错，根据[a. 使用 HFD 加快 Hugging Face 模型和数据集的下载](https://github.com/Hoper-J/LLM-Guide-and-Demos-zh_CN/blob/master/Guide/a.%20使用%20HFD%20加快%20Hugging%20Face%20模型和数据集的下载.md)进行前置安装。\n",
    "\n",
    "当然，你也可以取消我注释的部分，使用官方的命令进行安装，但是会很慢。"
   ]
  },
  {
   "cell_type": "code",
   "execution_count": 6,
   "id": "fc534866-a4d4-4989-b5b3-04df0bc21f16",
   "metadata": {
    "tags": []
   },
   "outputs": [
    {
     "name": "stdout",
     "output_type": "stream",
     "text": [
      "--2025-08-10 21:17:21--  https://hf-mirror.com/hfd/hfd.sh\n",
      "Resolving hf-mirror.com (hf-mirror.com)... 153.121.57.40, 153.121.61.152, 160.16.110.249, ...\n",
      "Connecting to hf-mirror.com (hf-mirror.com)|153.121.57.40|:443... connected.\n",
      "HTTP request sent, awaiting response... 200 OK\n",
      "Length: 13029 (13K) [application/x-shellscript]\n",
      "Saving to: ‘hfd.sh.17’\n",
      "\n",
      "hfd.sh.17           100%[===================>]  12.72K  --.-KB/s    in 0.01s   \n",
      "\n",
      "2025-08-10 21:17:23 (858 KB/s) - ‘hfd.sh.17’ saved [13029/13029]\n",
      "\n"
     ]
    }
   ],
   "source": [
    "!wget https://hf-mirror.com/hfd/hfd.sh\n",
    "!chmod a+x hfd.sh"
   ]
  },
  {
   "cell_type": "code",
   "execution_count": 7,
   "id": "4e1b7730-a6bd-4b10-8379-a21f2f35b17d",
   "metadata": {
    "tags": []
   },
   "outputs": [
    {
     "name": "stdout",
     "output_type": "stream",
     "text": [
      "\u001b[0;32mUsing cached metadata: /root/autodl-tmp/Breeze-7B-Instruct-v0_1/.hfd/repo_metadata.json\u001b[0m\n",
      "\u001b[0;32mResume from file list: /root/autodl-tmp/Breeze-7B-Instruct-v0_1/.hfd/aria2c_urls.txt\u001b[0m\n",
      "\u001b[1;33mStarting download with aria2c to /root/autodl-tmp/Breeze-7B-Instruct-v0_1...\n",
      "\u001b[0mNo files to download.\n",
      "\u001b[0;32mDownload completed successfully. Repo directory: /root/autodl-tmp/Breeze-7B-Instruct-v0_1\n",
      "\u001b[0m"
     ]
    }
   ],
   "source": [
    "import os\n",
    "os.environ['HF_ENDPOINT'] = 'https://hf-mirror.com'\n",
    "\n",
    "# 然后执行下载\n",
    "!./hfd.sh 'MediaTek-Research/Breeze-7B-Instruct-v0_1' --tool aria2c -x 8\n",
    "# AutoDL 可以用下面这行命令，注意，需要对应更改之后的路径\n",
    "# !./hfd.sh 'MediaTek-Research/Breeze-7B-Instruct-v0_1' --local-dir /root/autodl-tmp/Breeze-7B-Instruct-v0_1 --tool aria2c -x 8"
   ]
  },
  {
   "cell_type": "markdown",
   "id": "e93db2b4-5f9f-44c6-8515-b989ca7711a6",
   "metadata": {},
   "source": [
    "## 加载模型"
   ]
  },
  {
   "cell_type": "code",
   "execution_count": 8,
   "id": "4526f56b-6555-4016-aaf2-5598fe46ffca",
   "metadata": {
    "tags": []
   },
   "outputs": [
    {
     "data": {
      "application/vnd.jupyter.widget-view+json": {
       "model_id": "d55b0607aa2b4d7ca1696e9523ac709a",
       "version_major": 2,
       "version_minor": 0
      },
      "text/plain": [
       "Loading checkpoint shards:   0%|          | 0/2 [00:00<?, ?it/s]"
      ]
     },
     "metadata": {},
     "output_type": "display_data"
    }
   ],
   "source": [
    "# 用官方方法就取消这段注释，然后注释下面\n",
    "# model = AutoModelForCausalLM.from_pretrained(\n",
    "#     'MediaTek-Research/Breeze-7B-Instruct-v0_1',\n",
    "#     device_map='auto',\n",
    "#     trust_remote_code=True,\n",
    "#     quantization_config=BitsAndBytesConfig(\n",
    "#         load_in_4bit=True,\n",
    "#         bnb_4bit_compute_dtype=torch.bfloat16,\n",
    "#         bnb_4bit_use_double_quant=True,\n",
    "#         bnb_4bit_quant_type='nf4'\n",
    "#     )\n",
    "# )\n",
    "\n",
    "\n",
    "model = AutoModelForCausalLM.from_pretrained(\n",
    "    'Breeze-7B-Instruct-v0_1',  # 替换为本地模型存储的实际路径\n",
    "    device_map='auto',\n",
    "    trust_remote_code=True,\n",
    "    local_files_only=True,  # 确保从本地加载\n",
    "    quantization_config=BitsAndBytesConfig(\n",
    "        load_in_4bit=True,\n",
    "        bnb_4bit_compute_dtype=torch.bfloat16,\n",
    "        bnb_4bit_use_double_quant=True,\n",
    "        bnb_4bit_quant_type='nf4'\n",
    "    )\n",
    ")"
   ]
  },
  {
   "cell_type": "markdown",
   "id": "43fc3817-31d8-4696-b121-36f9247b9e7f",
   "metadata": {
    "tags": []
   },
   "source": [
    "## 查看未经过微调的模型原始输出"
   ]
  },
  {
   "cell_type": "code",
   "execution_count": 9,
   "id": "e5895e17-e89b-4121-bc7e-a0a91b3351e3",
   "metadata": {
    "tags": []
   },
   "outputs": [
    {
     "data": {
      "application/vnd.jupyter.widget-view+json": {
       "model_id": "68c14a7ec0584cda88e8d6e94bfc31bc",
       "version_major": 2,
       "version_minor": 0
      },
      "text/plain": [
       "  0%|          | 0/10 [00:00<?, ?it/s]"
      ]
     },
     "metadata": {},
     "output_type": "display_data"
    },
    {
     "name": "stdout",
     "output_type": "stream",
     "text": [
      "Question 1:\n",
      "真人化是否能改善日本漫畫的全球可及性？\n",
      "Response from original model:\n",
      "真人化可能會提高日本漫畫的全球可及性，因真人版電影或劇集可以吸引更多非漫畫讀者的注意，並提供不同的體驗。然而，這取決於真人化作品的品質、行銷策略和市場接受度。\n",
      "\n",
      "Question 2:\n",
      "真人化如何影響年輕一代對日本漫畫的看法？\n",
      "Response from original model:\n",
      "真人化可能會影響年輕一代對日本漫畫的看法，使他們更容易接受和理解故事和角色，並吸引更多人關注日本漫畫文化。然而，個人喜好和文化差異可能導致不同的影響。\n",
      "\n",
      "Question 3:\n",
      "真人化是否能提升原作漫畫的文學價值？\n",
      "Response from original model:\n",
      "真人化可能會提升原作漫畫的知名度和影響力，但文學價值本身可能因個人喜好和文化差異而異。真人化可能帶來更多觀眾，但文學價值取決於原作的故事、人物和主題，而非真人化形式。\n",
      "\n",
      "Question 4:\n",
      "真人化是否有助於保護和保存日本漫畫的傳統？\n",
      "Response from original model:\n",
      "真人化可能有助於提高日本漫畫的知名度和吸引更多觀眾，但是否真正保護和保存傳統尚需視真人化作品是否尊重原作精神和文化價值。\n",
      "\n",
      "Question 5:\n",
      "真人化是否有助於提升日本漫畫行業的經濟效益？\n",
      "Response from original model:\n",
      "真人化可能有助於提升日本漫畫行業的經濟效益，因真人版電影或劇集可以吸引更多觀眾，增加收入來源。然而，成功與否取決於作品的品質、行銷策略和市場接受度。\n",
      "\n",
      "Question 6:\n",
      "真人化如何影響日本漫畫原作者的創作動力？\n",
      "Response from original model:\n",
      "真人化可能會影響日本漫畫原作者的創作動力，因真人版可能帶來新的靈感、挑戰，並吸引更多讀者。然而，個人感受和反應各異，有些作者可能因真人化而更投入創作，而其他人可能因個人喜好或對真人化看法不同而影響其動力。\n",
      "\n",
      "Question 7:\n",
      "真人化是否對漫畫原作的忠實粉絲公平？\n",
      "Response from original model:\n",
      "真人化可能對忠實的漫畫原作粉絲有不同影響。對某些人來說，真人化可能增加了故事的可視性，使故事更容易理解和接受。但對其他人來說，真人化可能會改變原作的風格、人物形象和故事氛圍，導致他們對原作的印象受到影響。最終，真人化是否公平取決於個人的喜好和期待。\n",
      "\n",
      "Question 8:\n",
      "真人化是否能夠促進日本漫畫的創新和多樣性？\n",
      "Response from original model:\n",
      "真人化可能促進日本漫畫的創新和多樣性，因真人版電影或劇集可以吸引新觀眾群，並提供不同的故事表現方式。然而，過度的真人化或商業化可能限制創意和多元性。平衡和智慧的運用是關鍵。\n",
      "\n",
      "Question 9:\n",
      "真人化是否有助於擴大動漫文化的市場份額？\n",
      "Response from original model:\n",
      "真人化可能有助於擴大動漫文化的市場份額，因它能吸引更多非動漫迷觀眾，並提高大眾對動漫文化的認識。然而，成功與否取決於真人化作品的品質、故事內容、以及是否能保持動漫原作的精神。\n",
      "\n",
      "Question 10:\n",
      "真人化是否有助於提高日本漫畫在全球的競爭力？\n",
      "Response from original model:\n",
      "真人化可能有助於提高日本漫畫在全球的競爭力，因它能吸引更多觀眾並拓展市場，但同時也可能限制原創性，影響日本漫畫的獨特性。\n",
      "\n"
     ]
    }
   ],
   "source": [
    "# 用官方方法就取消这行注释，然后注释下面\n",
    "# tokenizer = AutoTokenizer.from_pretrained('MediaTek-Research/Breeze-7B-Instruct-v0_1')\n",
    "tokenizer = AutoTokenizer.from_pretrained('Breeze-7B-Instruct-v0_1')\n",
    "tokenizer.padding_side = \"right\"\n",
    "tokenizer.pad_token = tokenizer.eos_token\n",
    "\n",
    "def data_formulate(data):\n",
    "    messages = [\n",
    "        {\"role\": \"system\", \"content\": '回覆請少於20字'},\n",
    "        {\"role\": \"user\", \"content\": data['prompt']},\n",
    "    ]\n",
    "    prompt = tokenizer.apply_chat_template(messages, tokenize=False, add_generation_prompt=True)\n",
    "    return prompt\n",
    "\n",
    "original_model_response = []\n",
    "for data in tqdm(test_data):\n",
    "    id = data['id']\n",
    "    print(f\"Question {id}:\\n{data['prompt']}\")\n",
    "\n",
    "    inputs = tokenizer(data_formulate(data), return_tensors=\"pt\").to('cuda')\n",
    "    generation_config = GenerationConfig(\n",
    "        do_sample=False,\n",
    "        max_new_tokens=200,\n",
    "        pad_token_id=tokenizer.pad_token_id\n",
    "    )\n",
    "    output = model.generate(**inputs, generation_config=generation_config)\n",
    "    output_text = tokenizer.batch_decode(output, skip_special_tokens=True)[0].split('[/INST] ')[1]\n",
    "    original_model_response.append(output_text)\n",
    "\n",
    "    print(f\"Response from original model:\\n{output_text}\\n\")"
   ]
  },
  {
   "cell_type": "markdown",
   "id": "e307f9f8-ab02-4bcd-aae7-78d2c6a64202",
   "metadata": {
    "tags": []
   },
   "source": [
    "## 设置参数\n",
    "\n",
    "你只需要修改这个模块，不需要改变其他的，除非你真的知道自己在做什么。\n",
    "\n",
    "`support_ratio` 将反映你的偏好：\n",
    "\n",
    "- 0 表示完全不支持（反对）真人化\n",
    "- 1 表示完全支持真人化\n",
    "- 0.1 表示 10% 支持真人化"
   ]
  },
  {
   "cell_type": "code",
   "execution_count": 10,
   "id": "ee41ff5a-9dcd-452a-9340-33c9e42c815f",
   "metadata": {
    "tags": []
   },
   "outputs": [],
   "source": [
    "num_epoch = 1       # 训练轮数\n",
    "data_size = 50      # 用于训练的数据量\n",
    "support_ratio = 0.1 # 偏好支持真人化的比例"
   ]
  },
  {
   "cell_type": "markdown",
   "id": "f701f863-8bf7-4cdc-9a14-b1d51a5953b2",
   "metadata": {},
   "source": [
    "## 准备训练数据\n",
    "\n",
    "这里，我们将数据集分为支持（support）和反对（oppose）两部分，构建一个包含偏好对的训练数据集。\n",
    "\n",
    "总共有 50 笔训练数据，当 support 设置为 0.1 时，前 50*0.1=5 笔训练资料的偏好将倾向于支持真人化，后 50-4=45 笔资料反对真人化。"
   ]
  },
  {
   "cell_type": "code",
   "execution_count": 11,
   "id": "cb14369d-6670-40de-a058-10aaf989108c",
   "metadata": {
    "tags": []
   },
   "outputs": [
    {
     "data": {
      "text/html": [
       "<div>\n",
       "<style scoped>\n",
       "    .dataframe tbody tr th:only-of-type {\n",
       "        vertical-align: middle;\n",
       "    }\n",
       "\n",
       "    .dataframe tbody tr th {\n",
       "        vertical-align: top;\n",
       "    }\n",
       "\n",
       "    .dataframe thead th {\n",
       "        text-align: right;\n",
       "    }\n",
       "</style>\n",
       "<table border=\"1\" class=\"dataframe\">\n",
       "  <thead>\n",
       "    <tr style=\"text-align: right;\">\n",
       "      <th></th>\n",
       "      <th>prompt</th>\n",
       "      <th>position</th>\n",
       "      <th>preferred</th>\n",
       "      <th>non-preferred</th>\n",
       "    </tr>\n",
       "  </thead>\n",
       "  <tbody>\n",
       "    <tr>\n",
       "      <th>0</th>\n",
       "      <td>&lt;s&gt;回覆請少於20字   [INST] 日本動漫真人化是否有損原作形象？ [/INST]</td>\n",
       "      <td>support</td>\n",
       "      <td>真人化能夠呈現更真實的角色形象，提升原作魅力。</td>\n",
       "      <td>真人化可能無法完美呈現動畫中的獨特風格，損害原作形象。</td>\n",
       "    </tr>\n",
       "    <tr>\n",
       "      <th>1</th>\n",
       "      <td>&lt;s&gt;回覆請少於20字   [INST] 真人化是否能夠擴大動漫在全球的影響力？ [/INST]</td>\n",
       "      <td>support</td>\n",
       "      <td>真人化能夠讓更多非動漫迷接觸作品，擴大影響力。</td>\n",
       "      <td>真人化可能失去動漫的獨特風格，限制影響力擴大。</td>\n",
       "    </tr>\n",
       "    <tr>\n",
       "      <th>2</th>\n",
       "      <td>&lt;s&gt;回覆請少於20字   [INST] 真人化是否能夠吸引新觀眾？ [/INST]</td>\n",
       "      <td>support</td>\n",
       "      <td>真人化能夠吸引不熟悉動漫的觀眾，擴大受眾。</td>\n",
       "      <td>真人化可能讓原本的動漫迷感到失望，無法吸引新觀眾。</td>\n",
       "    </tr>\n",
       "    <tr>\n",
       "      <th>3</th>\n",
       "      <td>&lt;s&gt;回覆請少於20字   [INST] 真人化是否能夠保留原作故事情節的精髓？ [/INST]</td>\n",
       "      <td>support</td>\n",
       "      <td>真人化有機會更深入挖掘原作故事，保留精髓。</td>\n",
       "      <td>真人化可能因為改編而失去原作故事的深度與精髓。</td>\n",
       "    </tr>\n",
       "    <tr>\n",
       "      <th>4</th>\n",
       "      <td>&lt;s&gt;回覆請少於20字   [INST] 真人化是否能夠提升動漫產業的商業價值？ [/INST]</td>\n",
       "      <td>support</td>\n",
       "      <td>真人化能夠開拓更多商業機會，提升產業價值。</td>\n",
       "      <td>真人化可能讓觀眾對原作失去興趣，影響產業價值。</td>\n",
       "    </tr>\n",
       "    <tr>\n",
       "      <th>5</th>\n",
       "      <td>&lt;s&gt;回覆請少於20字   [INST] 真人化是否能夠保持原作的文化特色？ [/INST]</td>\n",
       "      <td>oppose</td>\n",
       "      <td>真人化可能因為文化差異而失去原作獨有的文化魅力。</td>\n",
       "      <td>真人化可以透過場景、服裝等元素保留文化特色。</td>\n",
       "    </tr>\n",
       "    <tr>\n",
       "      <th>6</th>\n",
       "      <td>&lt;s&gt;回覆請少於20字   [INST] 真人化是否能夠挑戰技術上的新突破？ [/INST]</td>\n",
       "      <td>oppose</td>\n",
       "      <td>真人化可能因為技術限制而無法達到動畫中的視覺效果。</td>\n",
       "      <td>真人化促使技術創新，挑戰視覺效果上的新高度。</td>\n",
       "    </tr>\n",
       "    <tr>\n",
       "      <th>7</th>\n",
       "      <td>&lt;s&gt;回覆請少於20字   [INST] 真人化是否會受到演員選擇的爭議？ [/INST]</td>\n",
       "      <td>oppose</td>\n",
       "      <td>演員選擇可能引起爭議，觀眾難以接受角色塑造。</td>\n",
       "      <td>演員選擇可因應市場需求，不必受限於動畫形象。</td>\n",
       "    </tr>\n",
       "    <tr>\n",
       "      <th>8</th>\n",
       "      <td>&lt;s&gt;回覆請少於20字   [INST] 真人化是否能夠提高動漫的社會認同度？ [/INST]</td>\n",
       "      <td>oppose</td>\n",
       "      <td>真人化可能因為劇情改編而無法贏得社會認同。</td>\n",
       "      <td>真人化有機會讓更多人接受動漫，提高社會認同度。</td>\n",
       "    </tr>\n",
       "    <tr>\n",
       "      <th>9</th>\n",
       "      <td>&lt;s&gt;回覆請少於20字   [INST] 真人化是否能夠保留原作角色的個性特色？ [/INST]</td>\n",
       "      <td>oppose</td>\n",
       "      <td>真人化可能因演員演技或導演選擇而失去角色的原有特色。</td>\n",
       "      <td>真人化可以透過演員表現保留角色的個性特色。</td>\n",
       "    </tr>\n",
       "    <tr>\n",
       "      <th>10</th>\n",
       "      <td>&lt;s&gt;回覆請少於20字   [INST] 真人化是否會影響原作動畫的收視率？ [/INST]</td>\n",
       "      <td>oppose</td>\n",
       "      <td>真人化可能因為原作粉絲的反感而影響動畫收視率。</td>\n",
       "      <td>真人化可能吸引更廣泛的觀眾群，提高收視率。</td>\n",
       "    </tr>\n",
       "    <tr>\n",
       "      <th>11</th>\n",
       "      <td>&lt;s&gt;回覆請少於20字   [INST] 真人化是否會受到版權問題的困擾？ [/INST]</td>\n",
       "      <td>oppose</td>\n",
       "      <td>版權問題可能成為真人化的阻礙，影響製作進程。</td>\n",
       "      <td>版權問題可透過合作與協商解決，不一定成為問題。</td>\n",
       "    </tr>\n",
       "    <tr>\n",
       "      <th>12</th>\n",
       "      <td>&lt;s&gt;回覆請少於20字   [INST] 真人化是否會引起文化觀念差異的爭議？ [/INST]</td>\n",
       "      <td>oppose</td>\n",
       "      <td>真人化可能因文化觀念差異引起爭議，影響觀眾接受度。</td>\n",
       "      <td>透過適度的改編，真人化可減少文化觀念差異的爭議。</td>\n",
       "    </tr>\n",
       "    <tr>\n",
       "      <th>13</th>\n",
       "      <td>&lt;s&gt;回覆請少於20字   [INST] 真人化是否能夠挑戰影片表現的新風格？ [/INST]</td>\n",
       "      <td>oppose</td>\n",
       "      <td>真人化可能受制於原作風格，難以創造新的影片風格。</td>\n",
       "      <td>真人化有機會探索新的視覺風格，豐富影片表現。</td>\n",
       "    </tr>\n",
       "    <tr>\n",
       "      <th>14</th>\n",
       "      <td>&lt;s&gt;回覆請少於20字   [INST] 真人化是否能夠推動動漫產業的多元發展？ [/INST]</td>\n",
       "      <td>oppose</td>\n",
       "      <td>真人化可能使觀眾對原作產生固有印象，難以多元發展。</td>\n",
       "      <td>真人化能夠開啟動漫產業的多元化發展方向。</td>\n",
       "    </tr>\n",
       "    <tr>\n",
       "      <th>15</th>\n",
       "      <td>&lt;s&gt;回覆請少於20字   [INST] 真人化是否會改變原作動畫的風格？ [/INST]</td>\n",
       "      <td>oppose</td>\n",
       "      <td>真人化可能難以完美呈現原作動畫獨有的視覺風格。</td>\n",
       "      <td>真人化可以透過改編風格，呈現不同的視覺風格。</td>\n",
       "    </tr>\n",
       "    <tr>\n",
       "      <th>16</th>\n",
       "      <td>&lt;s&gt;回覆請少於20字   [INST] 真人化是否能夠擴大原作的世界觀？ [/INST]</td>\n",
       "      <td>oppose</td>\n",
       "      <td>真人化可能因製作預算或技術限制無法展現原作的豐富世界觀。</td>\n",
       "      <td>真人化有機會透過實景呈現，擴大原作的世界觀。</td>\n",
       "    </tr>\n",
       "    <tr>\n",
       "      <th>17</th>\n",
       "      <td>&lt;s&gt;回覆請少於20字   [INST] 真人化是否能夠吸引更多投資進入動漫產業？ [/IN...</td>\n",
       "      <td>oppose</td>\n",
       "      <td>真人化可能因觀眾反感而使投資者對動漫產業失去信心。</td>\n",
       "      <td>真人化能夠讓更多投資者看到商機，增加投資動機。</td>\n",
       "    </tr>\n",
       "    <tr>\n",
       "      <th>18</th>\n",
       "      <td>&lt;s&gt;回覆請少於20字   [INST] 真人化是否能夠促進原作動畫的衍生品銷售？ [/IN...</td>\n",
       "      <td>oppose</td>\n",
       "      <td>真人化可能因觀眾對原作失望而降低衍生品銷售。</td>\n",
       "      <td>真人化能夠擴大原作品牌影響力，提高衍生品銷售。</td>\n",
       "    </tr>\n",
       "    <tr>\n",
       "      <th>19</th>\n",
       "      <td>&lt;s&gt;回覆請少於20字   [INST] 真人化是否能夠提升動漫的社會地位？ [/INST]</td>\n",
       "      <td>oppose</td>\n",
       "      <td>真人化可能讓觀眾對動漫產生負面印象，降低社會地位。</td>\n",
       "      <td>真人化有機會使動漫更受社會重視，提升地位。</td>\n",
       "    </tr>\n",
       "    <tr>\n",
       "      <th>20</th>\n",
       "      <td>&lt;s&gt;回覆請少於20字   [INST] 真人化是否會破壞原作動畫的獨特性？ [/INST]</td>\n",
       "      <td>oppose</td>\n",
       "      <td>真人化可能因為改編而使原作失去獨特風格。</td>\n",
       "      <td>真人化可以透過新的呈現方式，保留原作的獨特性。</td>\n",
       "    </tr>\n",
       "    <tr>\n",
       "      <th>21</th>\n",
       "      <td>&lt;s&gt;回覆請少於20字   [INST] 真人化是否能夠促進動漫產業的國際交流？ [/INST]</td>\n",
       "      <td>oppose</td>\n",
       "      <td>真人化可能因文化差異而難以打開國際市場，限制交流。</td>\n",
       "      <td>真人化能夠使動漫更容易被國際觀眾理解，促進交流。</td>\n",
       "    </tr>\n",
       "    <tr>\n",
       "      <th>22</th>\n",
       "      <td>&lt;s&gt;回覆請少於20字   [INST] 真人化是否會影響原作動畫的經典地位？ [/INST]</td>\n",
       "      <td>oppose</td>\n",
       "      <td>真人化可能因改編而被視為是對原作經典的不敬。</td>\n",
       "      <td>真人化可以為原作注入新活力，提升經典地位。</td>\n",
       "    </tr>\n",
       "    <tr>\n",
       "      <th>23</th>\n",
       "      <td>&lt;s&gt;回覆請少於20字   [INST] 真人化是否會受到粉絲的反感？ [/INST]</td>\n",
       "      <td>oppose</td>\n",
       "      <td>部分粉絲可能因真人化而感到失望，產生強烈反感。</td>\n",
       "      <td>部分粉絲可能因真人化而感到新鮮，不一定反感。</td>\n",
       "    </tr>\n",
       "    <tr>\n",
       "      <th>24</th>\n",
       "      <td>&lt;s&gt;回覆請少於20字   [INST] 真人化是否能夠挖掘原作未探索的劇情？ [/INST]</td>\n",
       "      <td>oppose</td>\n",
       "      <td>真人化可能因為劇情改編而失去原作的深度與探索價值。</td>\n",
       "      <td>真人化有機會透過改編劇情，挖掘原作未探索的內容。</td>\n",
       "    </tr>\n",
       "    <tr>\n",
       "      <th>25</th>\n",
       "      <td>&lt;s&gt;回覆請少於20字   [INST] 真人化是否能夠吸引更多知名導演與演員參與？ [/I...</td>\n",
       "      <td>oppose</td>\n",
       "      <td>真人化可能因為風險高而難以吸引知名導演與演員參與。</td>\n",
       "      <td>真人化能夠吸引更多知名人士參與，提升製作水平。</td>\n",
       "    </tr>\n",
       "    <tr>\n",
       "      <th>26</th>\n",
       "      <td>&lt;s&gt;回覆請少於20字   [INST] 真人化是否會受到動畫粉絲的期待壓力？ [/INST]</td>\n",
       "      <td>oppose</td>\n",
       "      <td>真人化可能因無法滿足動畫粉絲的期待而受到極大壓力。</td>\n",
       "      <td>真人化可以透過適度的改編滿足觀眾期待，降低壓力。</td>\n",
       "    </tr>\n",
       "    <tr>\n",
       "      <th>27</th>\n",
       "      <td>&lt;s&gt;回覆請少於20字   [INST] 真人化是否有助於促進動漫產業內的技術創新？ [/I...</td>\n",
       "      <td>oppose</td>\n",
       "      <td>過分專注於真人化可能會忽視動漫本身的技術創新和發展。</td>\n",
       "      <td>真人化的製作需求推動了視覺效果和製作技術的創新。</td>\n",
       "    </tr>\n",
       "    <tr>\n",
       "      <th>28</th>\n",
       "      <td>&lt;s&gt;回覆請少於20字   [INST] 真人化是否會提高動漫文化的普及和接受度？ [/IN...</td>\n",
       "      <td>oppose</td>\n",
       "      <td>真人化可能會降低動漫文化的獨特性，減少其對特定群體的吸引力。</td>\n",
       "      <td>真人化有助於使動漫文化更加普及，吸引更多不同背景的觀眾。</td>\n",
       "    </tr>\n",
       "    <tr>\n",
       "      <th>29</th>\n",
       "      <td>&lt;s&gt;回覆請少於20字   [INST] 真人化是否有助於提升動漫角色的深度和多維度？ [/...</td>\n",
       "      <td>oppose</td>\n",
       "      <td>真人化經常無法徹底展現動漫角色的複雜性和深度。</td>\n",
       "      <td>真人演員的演繹能為動漫角色增添更多層次和深度。</td>\n",
       "    </tr>\n",
       "    <tr>\n",
       "      <th>30</th>\n",
       "      <td>&lt;s&gt;回覆請少於20字   [INST] 真人化能增加原作的知名度嗎？ [/INST]</td>\n",
       "      <td>oppose</td>\n",
       "      <td>真人化經常失敗，可能損害原作的聲譽。</td>\n",
       "      <td>真人化能擴大原作的觀眾群，提高其知名度。</td>\n",
       "    </tr>\n",
       "    <tr>\n",
       "      <th>31</th>\n",
       "      <td>&lt;s&gt;回覆請少於20字   [INST] 真人化能夠提高原作的藝術價值嗎？ [/INST]</td>\n",
       "      <td>oppose</td>\n",
       "      <td>真人化往往無法捕捉原作的藝術魅力，反而貶低其價值。</td>\n",
       "      <td>真人化是對原作的新詮釋，能增加其藝術層面的深度。</td>\n",
       "    </tr>\n",
       "    <tr>\n",
       "      <th>32</th>\n",
       "      <td>&lt;s&gt;回覆請少於20字   [INST] 真人化是否利於動漫產業的經濟發展？ [/INST]</td>\n",
       "      <td>oppose</td>\n",
       "      <td>真人化的商業化導向可能扭曲原作精神，對產業長期發展不利。</td>\n",
       "      <td>真人化能創造新的商業機會，刺激動漫產業的經濟增長。</td>\n",
       "    </tr>\n",
       "    <tr>\n",
       "      <th>33</th>\n",
       "      <td>&lt;s&gt;回覆請少於20字   [INST] 真人化是否有助於動漫文化的國際傳播？ [/INST]</td>\n",
       "      <td>oppose</td>\n",
       "      <td>真人化可能會錯誤詮釋動漫文化，造成國際上的誤解。</td>\n",
       "      <td>真人化作品更容易被國際觀眾接受，有助於推廣動漫文化。</td>\n",
       "    </tr>\n",
       "    <tr>\n",
       "      <th>34</th>\n",
       "      <td>&lt;s&gt;回覆請少於20字   [INST] 真人化是否能準確再現動漫的奇幻元素？ [/INST]</td>\n",
       "      <td>oppose</td>\n",
       "      <td>真人化往往無法完美再現動漫的奇幻世界，失去原作魅力。</td>\n",
       "      <td>現代技術能夠精準再現動漫的奇幻元素，增強真人化的吸引力。</td>\n",
       "    </tr>\n",
       "    <tr>\n",
       "      <th>35</th>\n",
       "      <td>&lt;s&gt;回覆請少於20字   [INST] 真人化是否尊重原作的精神和內容？ [/INST]</td>\n",
       "      <td>oppose</td>\n",
       "      <td>真人化經常為了商業利益而改變原作的核心精神和內容。</td>\n",
       "      <td>真人化時，製作團隊通常會努力保持對原作的忠誠和尊重。</td>\n",
       "    </tr>\n",
       "    <tr>\n",
       "      <th>36</th>\n",
       "      <td>&lt;s&gt;回覆請少於20字   [INST] 真人化對原作的完整性有何影響？ [/INST]</td>\n",
       "      <td>oppose</td>\n",
       "      <td>真人化往往簡化或改變原作的故事，損害其完整性。</td>\n",
       "      <td>真人化為原作提供了新的視角，豐富了其敘事和背景。</td>\n",
       "    </tr>\n",
       "    <tr>\n",
       "      <th>37</th>\n",
       "      <td>&lt;s&gt;回覆請少於20字   [INST] 真人化是否有助於吸引更廣泛的觀眾群？ [/INST]</td>\n",
       "      <td>oppose</td>\n",
       "      <td>真人化可能會失去核心動漫粉絲，而無法吸引新觀眾。</td>\n",
       "      <td>真人化能吸引不習慣看動漫的觀眾，擴大受眾基礎。</td>\n",
       "    </tr>\n",
       "    <tr>\n",
       "      <th>38</th>\n",
       "      <td>&lt;s&gt;回覆請少於20字   [INST] 真人化是否有助於提升原創動漫的品牌價值？ [/IN...</td>\n",
       "      <td>oppose</td>\n",
       "      <td>不成功的真人化可能損害原創動漫的品牌形象。</td>\n",
       "      <td>成功的真人化能提升原創動漫的品牌價值和市場認可。</td>\n",
       "    </tr>\n",
       "    <tr>\n",
       "      <th>39</th>\n",
       "      <td>&lt;s&gt;回覆請少於20字   [INST] 真人化是否有助於促進原創作者的創意表達？ [/IN...</td>\n",
       "      <td>oppose</td>\n",
       "      <td>真人化可能限制或扭曲原創者的創意，使其不再忠實於原作。</td>\n",
       "      <td>真人化提供了一個新平台，讓原創作者能夠以不同方式表達創意。</td>\n",
       "    </tr>\n",
       "    <tr>\n",
       "      <th>40</th>\n",
       "      <td>&lt;s&gt;回覆請少於20字   [INST] 真人化是否會增加原作的文化影響力？ [/INST]</td>\n",
       "      <td>oppose</td>\n",
       "      <td>真人化可能會稀釋原作的獨特文化元素，降低其影響力。</td>\n",
       "      <td>真人化作品更容易被主流文化接受，增強原作的文化影響力。</td>\n",
       "    </tr>\n",
       "    <tr>\n",
       "      <th>41</th>\n",
       "      <td>&lt;s&gt;回覆請少於20字   [INST] 真人化是否有助於原作故事的深度和複雜度？ [/IN...</td>\n",
       "      <td>oppose</td>\n",
       "      <td>真人化經常因時長和預算限制而簡化故事，減少深度和複雜度。</td>\n",
       "      <td>真人化可以加深原作的敘事深度，提供更複雜的角色和情節發展。</td>\n",
       "    </tr>\n",
       "    <tr>\n",
       "      <th>42</th>\n",
       "      <td>&lt;s&gt;回覆請少於20字   [INST] 真人化是否有助於動漫產業的多元化發展？ [/INST]</td>\n",
       "      <td>oppose</td>\n",
       "      <td>過度專注於真人化可能會忽視動漫其他領域的發展，限制多元化。</td>\n",
       "      <td>真人化作品的多樣性能推動整個動漫產業向更多元化方向發展。</td>\n",
       "    </tr>\n",
       "    <tr>\n",
       "      <th>43</th>\n",
       "      <td>&lt;s&gt;回覆請少於20字   [INST] 真人化是否有助於提高原作的國際競爭力？ [/INST]</td>\n",
       "      <td>oppose</td>\n",
       "      <td>真人化如果失敗，可能會損害原作在國際市場的聲譽和競爭力。</td>\n",
       "      <td>真人化能使原作更容易進入國際市場，提高其全球競爭力。</td>\n",
       "    </tr>\n",
       "    <tr>\n",
       "      <th>44</th>\n",
       "      <td>&lt;s&gt;回覆請少於20字   [INST] 真人化是否有助於原創作者的經濟利益？ [/INST]</td>\n",
       "      <td>oppose</td>\n",
       "      <td>真人化可能會未經原創者充分同意就進行，侵犯其經濟和版權利益。</td>\n",
       "      <td>真人化的成功能為原創者帶來額外的經濟收益。</td>\n",
       "    </tr>\n",
       "    <tr>\n",
       "      <th>45</th>\n",
       "      <td>&lt;s&gt;回覆請少於20字   [INST] 真人化是否有助於促進動漫和其他媒介的合作？ [/I...</td>\n",
       "      <td>oppose</td>\n",
       "      <td>過分依賴真人化可能會忽視動漫本身的獨立性和特色，限制媒介間的真正合作。</td>\n",
       "      <td>真人化能開啟與電影、電視等其他媒介的合作機會。</td>\n",
       "    </tr>\n",
       "    <tr>\n",
       "      <th>46</th>\n",
       "      <td>&lt;s&gt;回覆請少於20字   [INST] 真人化是否有助於拓寬動漫的故事敘述方式？ [/IN...</td>\n",
       "      <td>oppose</td>\n",
       "      <td>真人化往往受限於現實條件，無法像動漫那樣自由發揮故事敘述。</td>\n",
       "      <td>真人化提供了一種全新的敘述方式，豐富動漫的故事表達。</td>\n",
       "    </tr>\n",
       "    <tr>\n",
       "      <th>47</th>\n",
       "      <td>&lt;s&gt;回覆請少於20字   [INST] 真人化是否有助於提高動漫角色的真實感？ [/INST]</td>\n",
       "      <td>oppose</td>\n",
       "      <td>真人化往往無法完全捕捉到動漫角色的獨特魅力和特性。</td>\n",
       "      <td>真人演員能賦予動漫角色更多人性化和真實感。</td>\n",
       "    </tr>\n",
       "    <tr>\n",
       "      <th>48</th>\n",
       "      <td>&lt;s&gt;回覆請少於20字   [INST] 真人化是否能夠正確傳達原作的主題和信息？ [/IN...</td>\n",
       "      <td>oppose</td>\n",
       "      <td>真人化經常因為格式和風格限制而失去傳達原作主題的能力。</td>\n",
       "      <td>真人化能夠通過實際演繹更加生動地傳達原作的主題和信息。</td>\n",
       "    </tr>\n",
       "    <tr>\n",
       "      <th>49</th>\n",
       "      <td>&lt;s&gt;回覆請少於20字   [INST] 真人化是否有助於增進原創動漫的社會認知度？ [/I...</td>\n",
       "      <td>oppose</td>\n",
       "      <td>真人化可能會將動漫文化簡化，降低其在社會中的地位和認知度。</td>\n",
       "      <td>真人化能使原創動漫更容易獲得主流社會的認可和關注。</td>\n",
       "    </tr>\n",
       "  </tbody>\n",
       "</table>\n",
       "</div>"
      ],
      "text/plain": [
       "                                               prompt position  \\\n",
       "0      <s>回覆請少於20字   [INST] 日本動漫真人化是否有損原作形象？ [/INST]   support   \n",
       "1   <s>回覆請少於20字   [INST] 真人化是否能夠擴大動漫在全球的影響力？ [/INST]   support   \n",
       "2         <s>回覆請少於20字   [INST] 真人化是否能夠吸引新觀眾？ [/INST]   support   \n",
       "3   <s>回覆請少於20字   [INST] 真人化是否能夠保留原作故事情節的精髓？ [/INST]   support   \n",
       "4   <s>回覆請少於20字   [INST] 真人化是否能夠提升動漫產業的商業價值？ [/INST]   support   \n",
       "5     <s>回覆請少於20字   [INST] 真人化是否能夠保持原作的文化特色？ [/INST]    oppose   \n",
       "6     <s>回覆請少於20字   [INST] 真人化是否能夠挑戰技術上的新突破？ [/INST]    oppose   \n",
       "7      <s>回覆請少於20字   [INST] 真人化是否會受到演員選擇的爭議？ [/INST]    oppose   \n",
       "8    <s>回覆請少於20字   [INST] 真人化是否能夠提高動漫的社會認同度？ [/INST]    oppose   \n",
       "9   <s>回覆請少於20字   [INST] 真人化是否能夠保留原作角色的個性特色？ [/INST]    oppose   \n",
       "10    <s>回覆請少於20字   [INST] 真人化是否會影響原作動畫的收視率？ [/INST]    oppose   \n",
       "11     <s>回覆請少於20字   [INST] 真人化是否會受到版權問題的困擾？ [/INST]    oppose   \n",
       "12   <s>回覆請少於20字   [INST] 真人化是否會引起文化觀念差異的爭議？ [/INST]    oppose   \n",
       "13   <s>回覆請少於20字   [INST] 真人化是否能夠挑戰影片表現的新風格？ [/INST]    oppose   \n",
       "14  <s>回覆請少於20字   [INST] 真人化是否能夠推動動漫產業的多元發展？ [/INST]    oppose   \n",
       "15     <s>回覆請少於20字   [INST] 真人化是否會改變原作動畫的風格？ [/INST]    oppose   \n",
       "16     <s>回覆請少於20字   [INST] 真人化是否能夠擴大原作的世界觀？ [/INST]    oppose   \n",
       "17  <s>回覆請少於20字   [INST] 真人化是否能夠吸引更多投資進入動漫產業？ [/IN...   oppose   \n",
       "18  <s>回覆請少於20字   [INST] 真人化是否能夠促進原作動畫的衍生品銷售？ [/IN...   oppose   \n",
       "19    <s>回覆請少於20字   [INST] 真人化是否能夠提升動漫的社會地位？ [/INST]    oppose   \n",
       "20    <s>回覆請少於20字   [INST] 真人化是否會破壞原作動畫的獨特性？ [/INST]    oppose   \n",
       "21  <s>回覆請少於20字   [INST] 真人化是否能夠促進動漫產業的國際交流？ [/INST]    oppose   \n",
       "22   <s>回覆請少於20字   [INST] 真人化是否會影響原作動畫的經典地位？ [/INST]    oppose   \n",
       "23       <s>回覆請少於20字   [INST] 真人化是否會受到粉絲的反感？ [/INST]    oppose   \n",
       "24   <s>回覆請少於20字   [INST] 真人化是否能夠挖掘原作未探索的劇情？ [/INST]    oppose   \n",
       "25  <s>回覆請少於20字   [INST] 真人化是否能夠吸引更多知名導演與演員參與？ [/I...   oppose   \n",
       "26   <s>回覆請少於20字   [INST] 真人化是否會受到動畫粉絲的期待壓力？ [/INST]    oppose   \n",
       "27  <s>回覆請少於20字   [INST] 真人化是否有助於促進動漫產業內的技術創新？ [/I...   oppose   \n",
       "28  <s>回覆請少於20字   [INST] 真人化是否會提高動漫文化的普及和接受度？ [/IN...   oppose   \n",
       "29  <s>回覆請少於20字   [INST] 真人化是否有助於提升動漫角色的深度和多維度？ [/...   oppose   \n",
       "30       <s>回覆請少於20字   [INST] 真人化能增加原作的知名度嗎？ [/INST]    oppose   \n",
       "31     <s>回覆請少於20字   [INST] 真人化能夠提高原作的藝術價值嗎？ [/INST]    oppose   \n",
       "32    <s>回覆請少於20字   [INST] 真人化是否利於動漫產業的經濟發展？ [/INST]    oppose   \n",
       "33   <s>回覆請少於20字   [INST] 真人化是否有助於動漫文化的國際傳播？ [/INST]    oppose   \n",
       "34   <s>回覆請少於20字   [INST] 真人化是否能準確再現動漫的奇幻元素？ [/INST]    oppose   \n",
       "35     <s>回覆請少於20字   [INST] 真人化是否尊重原作的精神和內容？ [/INST]    oppose   \n",
       "36      <s>回覆請少於20字   [INST] 真人化對原作的完整性有何影響？ [/INST]    oppose   \n",
       "37   <s>回覆請少於20字   [INST] 真人化是否有助於吸引更廣泛的觀眾群？ [/INST]    oppose   \n",
       "38  <s>回覆請少於20字   [INST] 真人化是否有助於提升原創動漫的品牌價值？ [/IN...   oppose   \n",
       "39  <s>回覆請少於20字   [INST] 真人化是否有助於促進原創作者的創意表達？ [/IN...   oppose   \n",
       "40    <s>回覆請少於20字   [INST] 真人化是否會增加原作的文化影響力？ [/INST]    oppose   \n",
       "41  <s>回覆請少於20字   [INST] 真人化是否有助於原作故事的深度和複雜度？ [/IN...   oppose   \n",
       "42  <s>回覆請少於20字   [INST] 真人化是否有助於動漫產業的多元化發展？ [/INST]    oppose   \n",
       "43  <s>回覆請少於20字   [INST] 真人化是否有助於提高原作的國際競爭力？ [/INST]    oppose   \n",
       "44   <s>回覆請少於20字   [INST] 真人化是否有助於原創作者的經濟利益？ [/INST]    oppose   \n",
       "45  <s>回覆請少於20字   [INST] 真人化是否有助於促進動漫和其他媒介的合作？ [/I...   oppose   \n",
       "46  <s>回覆請少於20字   [INST] 真人化是否有助於拓寬動漫的故事敘述方式？ [/IN...   oppose   \n",
       "47  <s>回覆請少於20字   [INST] 真人化是否有助於提高動漫角色的真實感？ [/INST]    oppose   \n",
       "48  <s>回覆請少於20字   [INST] 真人化是否能夠正確傳達原作的主題和信息？ [/IN...   oppose   \n",
       "49  <s>回覆請少於20字   [INST] 真人化是否有助於增進原創動漫的社會認知度？ [/I...   oppose   \n",
       "\n",
       "                              preferred                  non-preferred  \n",
       "0               真人化能夠呈現更真實的角色形象，提升原作魅力。    真人化可能無法完美呈現動畫中的獨特風格，損害原作形象。  \n",
       "1               真人化能夠讓更多非動漫迷接觸作品，擴大影響力。        真人化可能失去動漫的獨特風格，限制影響力擴大。  \n",
       "2                 真人化能夠吸引不熟悉動漫的觀眾，擴大受眾。      真人化可能讓原本的動漫迷感到失望，無法吸引新觀眾。  \n",
       "3                 真人化有機會更深入挖掘原作故事，保留精髓。        真人化可能因為改編而失去原作故事的深度與精髓。  \n",
       "4                 真人化能夠開拓更多商業機會，提升產業價值。        真人化可能讓觀眾對原作失去興趣，影響產業價值。  \n",
       "5              真人化可能因為文化差異而失去原作獨有的文化魅力。         真人化可以透過場景、服裝等元素保留文化特色。  \n",
       "6             真人化可能因為技術限制而無法達到動畫中的視覺效果。         真人化促使技術創新，挑戰視覺效果上的新高度。  \n",
       "7                演員選擇可能引起爭議，觀眾難以接受角色塑造。         演員選擇可因應市場需求，不必受限於動畫形象。  \n",
       "8                 真人化可能因為劇情改編而無法贏得社會認同。        真人化有機會讓更多人接受動漫，提高社會認同度。  \n",
       "9            真人化可能因演員演技或導演選擇而失去角色的原有特色。          真人化可以透過演員表現保留角色的個性特色。  \n",
       "10              真人化可能因為原作粉絲的反感而影響動畫收視率。          真人化可能吸引更廣泛的觀眾群，提高收視率。  \n",
       "11               版權問題可能成為真人化的阻礙，影響製作進程。        版權問題可透過合作與協商解決，不一定成為問題。  \n",
       "12            真人化可能因文化觀念差異引起爭議，影響觀眾接受度。       透過適度的改編，真人化可減少文化觀念差異的爭議。  \n",
       "13             真人化可能受制於原作風格，難以創造新的影片風格。         真人化有機會探索新的視覺風格，豐富影片表現。  \n",
       "14            真人化可能使觀眾對原作產生固有印象，難以多元發展。           真人化能夠開啟動漫產業的多元化發展方向。  \n",
       "15              真人化可能難以完美呈現原作動畫獨有的視覺風格。         真人化可以透過改編風格，呈現不同的視覺風格。  \n",
       "16         真人化可能因製作預算或技術限制無法展現原作的豐富世界觀。         真人化有機會透過實景呈現，擴大原作的世界觀。  \n",
       "17            真人化可能因觀眾反感而使投資者對動漫產業失去信心。        真人化能夠讓更多投資者看到商機，增加投資動機。  \n",
       "18               真人化可能因觀眾對原作失望而降低衍生品銷售。        真人化能夠擴大原作品牌影響力，提高衍生品銷售。  \n",
       "19            真人化可能讓觀眾對動漫產生負面印象，降低社會地位。          真人化有機會使動漫更受社會重視，提升地位。  \n",
       "20                 真人化可能因為改編而使原作失去獨特風格。        真人化可以透過新的呈現方式，保留原作的獨特性。  \n",
       "21            真人化可能因文化差異而難以打開國際市場，限制交流。       真人化能夠使動漫更容易被國際觀眾理解，促進交流。  \n",
       "22               真人化可能因改編而被視為是對原作經典的不敬。          真人化可以為原作注入新活力，提升經典地位。  \n",
       "23              部分粉絲可能因真人化而感到失望，產生強烈反感。         部分粉絲可能因真人化而感到新鮮，不一定反感。  \n",
       "24            真人化可能因為劇情改編而失去原作的深度與探索價值。       真人化有機會透過改編劇情，挖掘原作未探索的內容。  \n",
       "25            真人化可能因為風險高而難以吸引知名導演與演員參與。        真人化能夠吸引更多知名人士參與，提升製作水平。  \n",
       "26            真人化可能因無法滿足動畫粉絲的期待而受到極大壓力。       真人化可以透過適度的改編滿足觀眾期待，降低壓力。  \n",
       "27           過分專注於真人化可能會忽視動漫本身的技術創新和發展。       真人化的製作需求推動了視覺效果和製作技術的創新。  \n",
       "28       真人化可能會降低動漫文化的獨特性，減少其對特定群體的吸引力。   真人化有助於使動漫文化更加普及，吸引更多不同背景的觀眾。  \n",
       "29              真人化經常無法徹底展現動漫角色的複雜性和深度。        真人演員的演繹能為動漫角色增添更多層次和深度。  \n",
       "30                   真人化經常失敗，可能損害原作的聲譽。           真人化能擴大原作的觀眾群，提高其知名度。  \n",
       "31            真人化往往無法捕捉原作的藝術魅力，反而貶低其價值。       真人化是對原作的新詮釋，能增加其藝術層面的深度。  \n",
       "32         真人化的商業化導向可能扭曲原作精神，對產業長期發展不利。      真人化能創造新的商業機會，刺激動漫產業的經濟增長。  \n",
       "33             真人化可能會錯誤詮釋動漫文化，造成國際上的誤解。     真人化作品更容易被國際觀眾接受，有助於推廣動漫文化。  \n",
       "34           真人化往往無法完美再現動漫的奇幻世界，失去原作魅力。   現代技術能夠精準再現動漫的奇幻元素，增強真人化的吸引力。  \n",
       "35            真人化經常為了商業利益而改變原作的核心精神和內容。     真人化時，製作團隊通常會努力保持對原作的忠誠和尊重。  \n",
       "36              真人化往往簡化或改變原作的故事，損害其完整性。       真人化為原作提供了新的視角，豐富了其敘事和背景。  \n",
       "37             真人化可能會失去核心動漫粉絲，而無法吸引新觀眾。        真人化能吸引不習慣看動漫的觀眾，擴大受眾基礎。  \n",
       "38                不成功的真人化可能損害原創動漫的品牌形象。       成功的真人化能提升原創動漫的品牌價值和市場認可。  \n",
       "39          真人化可能限制或扭曲原創者的創意，使其不再忠實於原作。  真人化提供了一個新平台，讓原創作者能夠以不同方式表達創意。  \n",
       "40            真人化可能會稀釋原作的獨特文化元素，降低其影響力。    真人化作品更容易被主流文化接受，增強原作的文化影響力。  \n",
       "41         真人化經常因時長和預算限制而簡化故事，減少深度和複雜度。  真人化可以加深原作的敘事深度，提供更複雜的角色和情節發展。  \n",
       "42        過度專注於真人化可能會忽視動漫其他領域的發展，限制多元化。   真人化作品的多樣性能推動整個動漫產業向更多元化方向發展。  \n",
       "43         真人化如果失敗，可能會損害原作在國際市場的聲譽和競爭力。     真人化能使原作更容易進入國際市場，提高其全球競爭力。  \n",
       "44       真人化可能會未經原創者充分同意就進行，侵犯其經濟和版權利益。          真人化的成功能為原創者帶來額外的經濟收益。  \n",
       "45  過分依賴真人化可能會忽視動漫本身的獨立性和特色，限制媒介間的真正合作。        真人化能開啟與電影、電視等其他媒介的合作機會。  \n",
       "46        真人化往往受限於現實條件，無法像動漫那樣自由發揮故事敘述。     真人化提供了一種全新的敘述方式，豐富動漫的故事表達。  \n",
       "47            真人化往往無法完全捕捉到動漫角色的獨特魅力和特性。          真人演員能賦予動漫角色更多人性化和真實感。  \n",
       "48          真人化經常因為格式和風格限制而失去傳達原作主題的能力。    真人化能夠通過實際演繹更加生動地傳達原作的主題和信息。  \n",
       "49        真人化可能會將動漫文化簡化，降低其在社會中的地位和認知度。      真人化能使原創動漫更容易獲得主流社會的認可和關注。  "
      ]
     },
     "execution_count": 11,
     "metadata": {},
     "output_type": "execute_result"
    }
   ],
   "source": [
    "# 选择部分数据用于训练\n",
    "training_data = full_data[:data_size]\n",
    "\n",
    "# 定义 support 数据集的大小，用于将一部分数据标记为“支持” (chosen)，另一部分标记为“反对” (rejected)\n",
    "support_data_size = int(data_size * support_ratio)\n",
    "\n",
    "# 为训练数据集准备数据\n",
    "prompt_list = [data_formulate(data) for data in training_data]\n",
    "chosen_list = [data['support'] for data in training_data[:support_data_size]] + [data['oppose'] for data in training_data[support_data_size:]]\n",
    "rejected_list = [data['oppose'] for data in training_data[:support_data_size]] + [data['support'] for data in training_data[support_data_size:]]\n",
    "position_list = ['support' for _ in range(support_data_size)] + ['oppose' for _ in range(data_size - support_data_size)]\n",
    "\n",
    "# 创建训练数据集\n",
    "train_dataset = Dataset.from_dict({'prompt': prompt_list, 'position': position_list, 'chosen': chosen_list, 'rejected': rejected_list})\n",
    "pd.DataFrame(train_dataset).rename(columns={\"chosen\": \"preferred\", \"rejected\": \"non-preferred\"})"
   ]
  },
  {
   "cell_type": "markdown",
   "id": "898c4ac3-4f8c-43ac-878d-0b7a5c39e56c",
   "metadata": {
    "tags": []
   },
   "source": [
    "## 训练\n",
    "\n",
    "现在，我们进入训练阶段。首先，设置训练参数："
   ]
  },
  {
   "cell_type": "code",
   "execution_count": 12,
   "id": "873162f1-71eb-4079-85e4-d0ef2c230a89",
   "metadata": {
    "tags": []
   },
   "outputs": [],
   "source": [
    "training_args = DPOConfig(\n",
    "    output_dir='./',\n",
    "    per_device_train_batch_size=1,\n",
    "    num_train_epochs=num_epoch,\n",
    "    gradient_accumulation_steps=8,\n",
    "    gradient_checkpointing=False,\n",
    "    learning_rate=2e-4,\n",
    "    optim=\"paged_adamw_8bit\",\n",
    "    logging_steps = 1,\n",
    "    warmup_ratio = 0.1,\n",
    "    beta=0.1,\n",
    "    report_to = 'none',\n",
    "    \n",
    "    # 显式声明以避免报错\n",
    "    max_length=512,\n",
    "    max_prompt_length=128,\n",
    "    remove_unused_columns=False,\n",
    ")"
   ]
  },
  {
   "cell_type": "markdown",
   "id": "a9a6e9c1-4982-4350-a0e9-0b63a5846c04",
   "metadata": {},
   "source": [
    "接下来，配置PEFT（Parameter-Efficient Fine-Tuning）：\n"
   ]
  },
  {
   "cell_type": "code",
   "execution_count": 13,
   "id": "1c5cefa0-8054-46d7-9e21-3fadfe15aa4e",
   "metadata": {
    "tags": []
   },
   "outputs": [],
   "source": [
    "peft_config = LoraConfig(\n",
    "    lora_alpha=16,\n",
    "    lora_dropout=0.1,\n",
    "    r=64,\n",
    "    bias=\"none\",\n",
    "    task_type=\"CAUSAL_LM\",\n",
    ")"
   ]
  },
  {
   "cell_type": "markdown",
   "id": "b0cf2d33-1b19-4835-a903-38a9a2d340ec",
   "metadata": {},
   "source": [
    "然后，初始化DPO训练器：\n"
   ]
  },
  {
   "cell_type": "code",
   "execution_count": 14,
   "id": "d734c9e9-bf95-400a-b011-1f265706d97f",
   "metadata": {
    "tags": []
   },
   "outputs": [
    {
     "data": {
      "application/vnd.jupyter.widget-view+json": {
       "model_id": "709314c5d6294e27bdd6b8e0605f504c",
       "version_major": 2,
       "version_minor": 0
      },
      "text/plain": [
       "Extracting prompt in train dataset:   0%|          | 0/50 [00:00<?, ? examples/s]"
      ]
     },
     "metadata": {},
     "output_type": "display_data"
    },
    {
     "data": {
      "application/vnd.jupyter.widget-view+json": {
       "model_id": "6bc71a1e593c4a33bcb6e23bafa5d0eb",
       "version_major": 2,
       "version_minor": 0
      },
      "text/plain": [
       "Applying chat template to train dataset:   0%|          | 0/50 [00:00<?, ? examples/s]"
      ]
     },
     "metadata": {},
     "output_type": "display_data"
    },
    {
     "data": {
      "application/vnd.jupyter.widget-view+json": {
       "model_id": "4d8ac03e9abf434b8ec4bd55b059108d",
       "version_major": 2,
       "version_minor": 0
      },
      "text/plain": [
       "Tokenizing train dataset:   0%|          | 0/50 [00:00<?, ? examples/s]"
      ]
     },
     "metadata": {},
     "output_type": "display_data"
    },
    {
     "name": "stderr",
     "output_type": "stream",
     "text": [
      "Detected kernel version 5.4.0, which is below the recommended minimum of 5.5.0; this can cause the process to hang. It is recommended to upgrade the kernel to the minimum version or higher.\n"
     ]
    }
   ],
   "source": [
    "dpo_trainer = DPOTrainer(\n",
    "    model,\n",
    "    args=training_args,\n",
    "    train_dataset=train_dataset,\n",
    "    processing_class=tokenizer,\n",
    "    peft_config=peft_config,\n",
    ")"
   ]
  },
  {
   "cell_type": "markdown",
   "id": "5f6b12e3-8a9e-4d14-9e58-31f3ed202a4f",
   "metadata": {},
   "source": [
    "开始训练：\n"
   ]
  },
  {
   "cell_type": "code",
   "execution_count": 15,
   "id": "16b800f6-6747-459c-8048-e3ebac328e75",
   "metadata": {
    "tags": []
   },
   "outputs": [
    {
     "data": {
      "text/html": [
       "\n",
       "    <div>\n",
       "      \n",
       "      <progress value='7' max='7' style='width:300px; height:20px; vertical-align: middle;'></progress>\n",
       "      [7/7 00:19, Epoch 1/1]\n",
       "    </div>\n",
       "    <table border=\"1\" class=\"dataframe\">\n",
       "  <thead>\n",
       " <tr style=\"text-align: left;\">\n",
       "      <th>Step</th>\n",
       "      <th>Training Loss</th>\n",
       "    </tr>\n",
       "  </thead>\n",
       "  <tbody>\n",
       "    <tr>\n",
       "      <td>1</td>\n",
       "      <td>0.693100</td>\n",
       "    </tr>\n",
       "    <tr>\n",
       "      <td>2</td>\n",
       "      <td>0.693100</td>\n",
       "    </tr>\n",
       "    <tr>\n",
       "      <td>3</td>\n",
       "      <td>0.661800</td>\n",
       "    </tr>\n",
       "    <tr>\n",
       "      <td>4</td>\n",
       "      <td>0.539600</td>\n",
       "    </tr>\n",
       "    <tr>\n",
       "      <td>5</td>\n",
       "      <td>0.513200</td>\n",
       "    </tr>\n",
       "    <tr>\n",
       "      <td>6</td>\n",
       "      <td>0.383100</td>\n",
       "    </tr>\n",
       "    <tr>\n",
       "      <td>7</td>\n",
       "      <td>0.320200</td>\n",
       "    </tr>\n",
       "  </tbody>\n",
       "</table><p>"
      ],
      "text/plain": [
       "<IPython.core.display.HTML object>"
      ]
     },
     "metadata": {},
     "output_type": "display_data"
    },
    {
     "data": {
      "text/plain": [
       "TrainOutput(global_step=7, training_loss=0.5434750829424176, metrics={'train_runtime': 22.6309, 'train_samples_per_second': 2.209, 'train_steps_per_second': 0.309, 'total_flos': 0.0, 'train_loss': 0.5434750829424176, 'epoch': 1.0})"
      ]
     },
     "execution_count": 15,
     "metadata": {},
     "output_type": "execute_result"
    }
   ],
   "source": [
    "dpo_trainer.train()"
   ]
  },
  {
   "cell_type": "markdown",
   "id": "f043c0a6-e173-4c6f-bc6c-08403031b7af",
   "metadata": {
    "tags": []
   },
   "source": [
    "## 查看微调后的模型输出"
   ]
  },
  {
   "cell_type": "code",
   "execution_count": 16,
   "id": "769c45e7-338b-401e-abd0-db440471033a",
   "metadata": {
    "tags": []
   },
   "outputs": [
    {
     "data": {
      "application/vnd.jupyter.widget-view+json": {
       "model_id": "69d9a23135484754a9ed9b71763430ee",
       "version_major": 2,
       "version_minor": 0
      },
      "text/plain": [
       "  0%|          | 0/10 [00:00<?, ?it/s]"
      ]
     },
     "metadata": {},
     "output_type": "display_data"
    },
    {
     "name": "stdout",
     "output_type": "stream",
     "text": [
      "Question 1:\n",
      "真人化是否能改善日本漫畫的全球可及性？\n",
      "Response from trained model:\n",
      "真人化可能會提高日本漫畫的全球可及性，尤其是透過電影和電視劇的形式，吸引更多非漫畫迷的觀眾。然而，真人化可能也帶來其他影響，如失去原作的精神或吸引力。最終結果取決於如何平衡真人化和原作的元素。\n",
      "\n",
      "Question 2:\n",
      "真人化如何影響年輕一代對日本漫畫的看法？\n",
      "Response from trained model:\n",
      "真人化可能會影響年輕一代對日本漫畫的看法，因其可能改變原作的設定、人物形象或故事情節，而影響讀者的觀感。然而，部分年輕讀者可能因真人化而更感興趣，進而接觸更多日本漫畫。\n",
      "\n",
      "Question 3:\n",
      "真人化是否能提升原作漫畫的文學價值？\n",
      "Response from trained model:\n",
      "真人化可能會影響原作漫畫的文學價值，但結果取決於如何處理真人化後的作品。如果真人化能忠實地呈現原作的精神、故事和角色，並獲得觀眾的喜愛，則文學價值可能提升。然而，如果真人化失去原作的精髓或受到其他因素影響，則文學價值可能下降。\n",
      "\n",
      "Question 4:\n",
      "真人化是否有助於保護和保存日本漫畫的傳統？\n",
      "Response from trained model:\n",
      "真人化可能會影響日本漫畫的傳統，但保護和保存傳統更需要從教育和文化傳承方面著手。\n",
      "\n",
      "Question 5:\n",
      "真人化是否有助於提升日本漫畫行業的經濟效益？\n",
      "Response from trained model:\n",
      "真人化可能會帶來短期的經濟效益，如票房收入和商品銷售，但長期來看，它可能損害日本漫畫行業的核心價值，即原創性、創意和獨特性。真人化可能導致市場飽和，減少原創作品的投資和創作。\n",
      "\n",
      "Question 6:\n",
      "真人化如何影響日本漫畫原作者的創作動力？\n",
      "Response from trained model:\n",
      "真人化可能會影響日本漫畫原作者的創作動力，因真人化可能帶來壓力、影響原作的完整性、或改變原作的設定。然而，對某些作者而言，真人化亦可能帶來新的靈感或機會。最終影響因人而異。\n",
      "\n",
      "Question 7:\n",
      "真人化是否對漫畫原作的忠實粉絲公平？\n",
      "Response from trained model:\n",
      "真人化可能對忠實漫畫原作的粉絲不公平，因真人版可能刪減或更改故事情節、人物關係、風格等，與漫畫原作有差異，可能影響粉絲對故事的理解和感受。\n",
      "\n",
      "Question 8:\n",
      "真人化是否能夠促進日本漫畫的創新和多樣性？\n",
      "Response from trained model:\n",
      "真人化可能會限制日本漫畫的創新和多樣性，因其可能導致創作者傾向於追求熟悉的故事和角色，而忽略創新和多元化。\n",
      "\n",
      "Question 9:\n",
      "真人化是否有助於擴大動漫文化的市場份額？\n",
      "Response from trained model:\n",
      "真人化可能會吸引更多觀眾，但可能也會影響動漫文化的核心價值。市場份額可能暫時增加，但長期來看，若失去核心觀眾，市場份額可能下降。\n",
      "\n",
      "Question 10:\n",
      "真人化是否有助於提高日本漫畫在全球的競爭力？\n",
      "Response from trained model:\n",
      "真人化可能會提高日本漫畫在全球的知名度，但可能不會直接提高競爭力。競爭力取決於故事品質、創作者能力、市場需求等因素，真人化只是一種行銷策略。\n",
      "\n"
     ]
    }
   ],
   "source": [
    "trained_model_response = []\n",
    "for data in tqdm(test_data):\n",
    "    id = data['id']\n",
    "    print(f\"Question {id}:\\n{data['prompt']}\")\n",
    "\n",
    "    inputs = tokenizer(data_formulate(data), return_tensors=\"pt\").to('cuda')\n",
    "\n",
    "    # 使用 autocast 确保所有计算都在 bfloat16 下进行\n",
    "    with torch.amp.autocast(device_type='cuda', dtype=torch.bfloat16):\n",
    "        generation_config = GenerationConfig(\n",
    "            do_sample=False,\n",
    "            max_new_tokens=200,\n",
    "            pad_token_id=tokenizer.pad_token_id\n",
    "        )\n",
    "        output = model.generate(**inputs, generation_config=generation_config)\n",
    "\n",
    "    output_text = tokenizer.batch_decode(output, skip_special_tokens=True)[0].split('[/INST] ')[1]\n",
    "    trained_model_response.append(output_text)\n",
    "\n",
    "    print(f\"Response from trained model:\\n{output_text}\\n\")"
   ]
  },
  {
   "cell_type": "markdown",
   "id": "f6bab686-308b-4a24-a2c6-65f5c48e4040",
   "metadata": {
    "tags": []
   },
   "source": [
    "## 观察输出结果"
   ]
  },
  {
   "cell_type": "code",
   "execution_count": 17,
   "id": "c4e3136b-c743-4228-86f1-a84fb0c2bc38",
   "metadata": {
    "tags": []
   },
   "outputs": [
    {
     "name": "stdout",
     "output_type": "stream",
     "text": [
      "num_epoch: 1\n",
      "data_size: 50\n",
      "support_ratio: 0.1\n",
      "\n",
      "Question 1:\n",
      "真人化是否能改善日本漫畫的全球可及性？\n",
      "Response from original model:\n",
      "真人化可能會提高日本漫畫的全球可及性，因真人版電影或劇集可以吸引更多非漫畫讀者的注意，並提供不同的體驗。然而，這取決於真人化作品的品質、行銷策略和市場接受度。\n",
      "Response from trained model:\n",
      "真人化可能會提高日本漫畫的全球可及性，尤其是透過電影和電視劇的形式，吸引更多非漫畫迷的觀眾。然而，真人化可能也帶來其他影響，如失去原作的精神或吸引力。最終結果取決於如何平衡真人化和原作的元素。\n",
      "\n",
      "Question 2:\n",
      "真人化如何影響年輕一代對日本漫畫的看法？\n",
      "Response from original model:\n",
      "真人化可能會影響年輕一代對日本漫畫的看法，使他們更容易接受和理解故事和角色，並吸引更多人關注日本漫畫文化。然而，個人喜好和文化差異可能導致不同的影響。\n",
      "Response from trained model:\n",
      "真人化可能會影響年輕一代對日本漫畫的看法，因其可能改變原作的設定、人物形象或故事情節，而影響讀者的觀感。然而，部分年輕讀者可能因真人化而更感興趣，進而接觸更多日本漫畫。\n",
      "\n",
      "Question 3:\n",
      "真人化是否能提升原作漫畫的文學價值？\n",
      "Response from original model:\n",
      "真人化可能會提升原作漫畫的知名度和影響力，但文學價值本身可能因個人喜好和文化差異而異。真人化可能帶來更多觀眾，但文學價值取決於原作的故事、人物和主題，而非真人化形式。\n",
      "Response from trained model:\n",
      "真人化可能會影響原作漫畫的文學價值，但結果取決於如何處理真人化後的作品。如果真人化能忠實地呈現原作的精神、故事和角色，並獲得觀眾的喜愛，則文學價值可能提升。然而，如果真人化失去原作的精髓或受到其他因素影響，則文學價值可能下降。\n",
      "\n",
      "Question 4:\n",
      "真人化是否有助於保護和保存日本漫畫的傳統？\n",
      "Response from original model:\n",
      "真人化可能有助於提高日本漫畫的知名度和吸引更多觀眾，但是否真正保護和保存傳統尚需視真人化作品是否尊重原作精神和文化價值。\n",
      "Response from trained model:\n",
      "真人化可能會影響日本漫畫的傳統，但保護和保存傳統更需要從教育和文化傳承方面著手。\n",
      "\n",
      "Question 5:\n",
      "真人化是否有助於提升日本漫畫行業的經濟效益？\n",
      "Response from original model:\n",
      "真人化可能有助於提升日本漫畫行業的經濟效益，因真人版電影或劇集可以吸引更多觀眾，增加收入來源。然而，成功與否取決於作品的品質、行銷策略和市場接受度。\n",
      "Response from trained model:\n",
      "真人化可能會帶來短期的經濟效益，如票房收入和商品銷售，但長期來看，它可能損害日本漫畫行業的核心價值，即原創性、創意和獨特性。真人化可能導致市場飽和，減少原創作品的投資和創作。\n",
      "\n",
      "Question 6:\n",
      "真人化如何影響日本漫畫原作者的創作動力？\n",
      "Response from original model:\n",
      "真人化可能會影響日本漫畫原作者的創作動力，因真人版可能帶來新的靈感、挑戰，並吸引更多讀者。然而，個人感受和反應各異，有些作者可能因真人化而更投入創作，而其他人可能因個人喜好或對真人化看法不同而影響其動力。\n",
      "Response from trained model:\n",
      "真人化可能會影響日本漫畫原作者的創作動力，因真人化可能帶來壓力、影響原作的完整性、或改變原作的設定。然而，對某些作者而言，真人化亦可能帶來新的靈感或機會。最終影響因人而異。\n",
      "\n",
      "Question 7:\n",
      "真人化是否對漫畫原作的忠實粉絲公平？\n",
      "Response from original model:\n",
      "真人化可能對忠實的漫畫原作粉絲有不同影響。對某些人來說，真人化可能增加了故事的可視性，使故事更容易理解和接受。但對其他人來說，真人化可能會改變原作的風格、人物形象和故事氛圍，導致他們對原作的印象受到影響。最終，真人化是否公平取決於個人的喜好和期待。\n",
      "Response from trained model:\n",
      "真人化可能對忠實漫畫原作的粉絲不公平，因真人版可能刪減或更改故事情節、人物關係、風格等，與漫畫原作有差異，可能影響粉絲對故事的理解和感受。\n",
      "\n",
      "Question 8:\n",
      "真人化是否能夠促進日本漫畫的創新和多樣性？\n",
      "Response from original model:\n",
      "真人化可能促進日本漫畫的創新和多樣性，因真人版電影或劇集可以吸引新觀眾群，並提供不同的故事表現方式。然而，過度的真人化或商業化可能限制創意和多元性。平衡和智慧的運用是關鍵。\n",
      "Response from trained model:\n",
      "真人化可能會限制日本漫畫的創新和多樣性，因其可能導致創作者傾向於追求熟悉的故事和角色，而忽略創新和多元化。\n",
      "\n",
      "Question 9:\n",
      "真人化是否有助於擴大動漫文化的市場份額？\n",
      "Response from original model:\n",
      "真人化可能有助於擴大動漫文化的市場份額，因它能吸引更多非動漫迷觀眾，並提高大眾對動漫文化的認識。然而，成功與否取決於真人化作品的品質、故事內容、以及是否能保持動漫原作的精神。\n",
      "Response from trained model:\n",
      "真人化可能會吸引更多觀眾，但可能也會影響動漫文化的核心價值。市場份額可能暫時增加，但長期來看，若失去核心觀眾，市場份額可能下降。\n",
      "\n",
      "Question 10:\n",
      "真人化是否有助於提高日本漫畫在全球的競爭力？\n",
      "Response from original model:\n",
      "真人化可能有助於提高日本漫畫在全球的競爭力，因它能吸引更多觀眾並拓展市場，但同時也可能限制原創性，影響日本漫畫的獨特性。\n",
      "Response from trained model:\n",
      "真人化可能會提高日本漫畫在全球的知名度，但可能不會直接提高競爭力。競爭力取決於故事品質、創作者能力、市場需求等因素，真人化只是一種行銷策略。\n",
      "\n"
     ]
    }
   ],
   "source": [
    "model_response = []\n",
    "print(f\"num_epoch: {num_epoch}\\ndata_size: {data_size}\\nsupport_ratio: {support_ratio}\\n\")\n",
    "\n",
    "for data in test_data:\n",
    "    id = data['id']\n",
    "    ref_output = original_model_response[id - 1]\n",
    "    tuned_output = trained_model_response[id - 1]\n",
    "\n",
    "    print(f\"Question {id}:\\n{data['prompt']}\")\n",
    "    print(f\"Response from original model:\\n{ref_output}\")\n",
    "    print(f\"Response from trained model:\\n{tuned_output}\\n\")\n",
    "\n",
    "    model_response.append({\n",
    "        \"id\": data['id'],\n",
    "        \"prompt\": data['prompt'],\n",
    "        \"response_from_original_model\": ref_output,\n",
    "        \"response_from_trained_model\": tuned_output\n",
    "    })"
   ]
  },
  {
   "cell_type": "markdown",
   "id": "5f69a911-b23b-4247-8ae8-0ff5bc1b2033",
   "metadata": {
    "tags": []
   },
   "source": [
    "## 获取 output 文件（如果需要的话取消注释）"
   ]
  },
  {
   "cell_type": "code",
   "execution_count": 18,
   "id": "686c0ef2-8de3-40de-bcca-c92d9c05420d",
   "metadata": {
    "tags": []
   },
   "outputs": [],
   "source": [
    "# with open(f\"epoch-{num_epoch}_size-{data_size}_ratio-{support_ratio}.json\", \"w\", encoding='UTF-8') as outfile:\n",
    "#     json.dump(model_response, outfile, indent=4, ensure_ascii=False)"
   ]
  },
  {
   "cell_type": "code",
   "execution_count": null,
   "id": "5891682d-c867-436a-9a56-17d63dc8c6e4",
   "metadata": {},
   "outputs": [],
   "source": []
  }
 ],
 "metadata": {
  "kernelspec": {
   "display_name": "ai",
   "language": "python",
   "name": "ai"
  },
  "language_info": {
   "codemirror_mode": {
    "name": "ipython",
    "version": 3
   },
   "file_extension": ".py",
   "mimetype": "text/x-python",
   "name": "python",
   "nbconvert_exporter": "python",
   "pygments_lexer": "ipython3",
   "version": "3.12.3"
  }
 },
 "nbformat": 4,
 "nbformat_minor": 5
}
