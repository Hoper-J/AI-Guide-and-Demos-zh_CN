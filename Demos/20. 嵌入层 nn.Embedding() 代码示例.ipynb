{
 "cells": [
  {
   "cell_type": "markdown",
   "id": "bb641062-5756-4915-aae0-d3ed2fc5c0b9",
   "metadata": {},
   "source": [
    "# 嵌入层 nn.Embedding() 代码示例\n",
    "\n",
    "> 引导文章：[g. 嵌入层 nn.Embedding() 详解和要点提醒（PyTorch）](https://github.com/Hoper-J/AI-Guide-and-Demos-zh_CN/blob/master/Guide/g.%20嵌入层%20nn.Embedding()%20详解和要点提醒（PyTorch）.md)\n",
    "\n",
    "在线链接：[Kaggle](https://www.kaggle.com/code/aidemos/20-nn-embedding) | [Colab](https://colab.research.google.com/drive/1BLgmxasxOD1HQGrI0L1sPlYG40iba9SY?usp=sharing)"
   ]
  },
  {
   "cell_type": "markdown",
   "id": "fca454d7-797e-4cd9-9e68-54833787ddbf",
   "metadata": {},
   "source": [
    "> `torch.nn.Embedding(num_embeddings, embedding_dim, padding_idx=None, max_norm=None, norm_type=2.0, scale_grad_by_freq=False, sparse=False, _weight=None, _freeze=False, device=None, dtype=None)`\n",
    ">\n",
    "> A simple lookup table that stores embeddings of a fixed dictionary and size.\n",
    ">\n",
    "> 一个简单的查找表，用于存储固定大小的字典中每个词的嵌入向量。\n",
    "\n",
    "### 参数\n",
    "\n",
    "- **num_embeddings** (int): 嵌入字典的大小，即词汇表的大小 (vocab size)。\n",
    "- **embedding_dim** (int): 每个嵌入向量的维度大小。\n",
    "- **padding_idx** (int, 可选): 指定填充（`<PAD>`）对应的索引值。`padding_idx` 对应的嵌入向量在训练过程中不会更新，即梯度不参与反向传播。对于新构建的 `Embedding`，`padding_idx` 处的嵌入向量默认为全零，但可以手动更新为其他值。\n",
    "- **max_norm** (float, 可选):  如果设置，嵌入向量的范数超过此值时将被重新归一化，使其范数等于 `max_norm`。\n",
    "- **norm_type** (float, 可选): 用于计算 `max_norm` 的 p-范数，默认为 2，即计算 2 范数。\n",
    "- **scale_grad_by_freq** (bool, 可选): 如果为 `True`，梯度将根据单词在 mini-batch 中的频率的倒数进行缩放，适用于高频词的梯度调整。默认为 `False`。\n",
    "- **sparse** (bool, 可选): 如果设置为 `True`，则权重矩阵的梯度为稀疏张量，适合大规模词汇表的内存优化。\n",
    "\n",
    "### 属性\n",
    "\n",
    "- **weight** (Tensor): 模块的可学习权重，形状为 `(num_embeddings, embedding_dim)`，初始值从正态分布 `N(0, 1)` 中采样。\n",
    "\n",
    "### 方法\n",
    "\n",
    "> `from_pretrained(embeddings, freeze=True, padding_idx=None, max_norm=None, norm_type=2.0, scale_grad_by_freq=False, sparse=False)`\n",
    ">\n",
    "> Create Embedding instance from given 2-dimensional FloatTensor.\n",
    ">\n",
    "> 用于从给定的 2 维浮点张量（FloatTensor）创建一个 `Embedding` 实例，通俗来讲就是自定义二维的权重矩阵。\n",
    "\n",
    "#### 参数\n",
    "\n",
    "- **embeddings** (Tensor): 一个包含嵌入权重的 `FloatTensor`。第一个维度代表 `num_embeddings`（词汇表大小，vocab_size），第二个维度代表 `embedding_dim`（嵌入向量维度）。\n",
    "- **freeze** (bool, 可选): 如果为 `True`，则嵌入矩阵在训练过程中保持不变，相当于设置 `embedding.weight.requires_grad = False`。默认值为 `True`。\n",
    "- 其余参数参考之前定义。\n",
    "\n",
    "## 数学公式\n",
    "\n",
    "假设词汇表大小为 $V$，嵌入维度为 $D$，则嵌入层可以表示为一个矩阵 $E \\in \\mathbb{R}^{V \\times D}$。\n",
    "\n",
    "给定一个输入的 token ID 序列 $\\{x_1, x_2, \\dots, x_n\\}$，嵌入层的输出为对应的嵌入向量序列 $\\{E_{x_1}, E_{x_2}, \\dots, E_{x_n}\\}$，其中每个 $E_{x_i} \\in \\mathbb{R}^D$。\n",
    "\n",
    "嵌入层接受 $x_i$ 作为输入，返回对应的行向量，公式如下：\n",
    "\n",
    "$$\n",
    "E(x_i) = E_{x_i}\n",
    "$$\n",
    "其中，$E$ 是嵌入矩阵，$x_i$ 是输入的 token ID，$E(x_i)$ 是对应的嵌入向量。"
   ]
  },
  {
   "cell_type": "markdown",
   "id": "657b37f1-e9e0-46fa-bdd1-5c898f894231",
   "metadata": {},
   "source": [
    "## 使用示例\n"
   ]
  },
  {
   "cell_type": "code",
   "execution_count": 1,
   "id": "2d473fa4-2377-4d20-8b80-3896d91f66fe",
   "metadata": {},
   "outputs": [
    {
     "name": "stdout",
     "output_type": "stream",
     "text": [
      "权重矩阵：\n",
      "tensor([[ 0.3367,  0.1288,  0.2345],\n",
      "        [ 0.2303, -1.1229, -0.1863],\n",
      "        [ 2.2082, -0.6380,  0.4617],\n",
      "        [ 0.2674,  0.5349,  0.8094],\n",
      "        [ 1.1103, -1.6898, -0.9890]])\n",
      "\n",
      "Embedding 输出：\n",
      "tensor([[ 0.3367,  0.1288,  0.2345],\n",
      "        [ 2.2082, -0.6380,  0.4617],\n",
      "        [ 1.1103, -1.6898, -0.9890]], grad_fn=<EmbeddingBackward0>)\n"
     ]
    }
   ],
   "source": [
    "import torch\n",
    "import torch.nn as nn\n",
    "\n",
    "# 设置随机种子以确保结果可复现\n",
    "torch.manual_seed(42)\n",
    "\n",
    "# 定义嵌入层参数\n",
    "num_embeddings = 5  # 假设词汇表中有 5 个 token\n",
    "embedding_dim = 3   # 每个 token 对应 3 维嵌入向量\n",
    "\n",
    "# 初始化嵌入层\n",
    "embedding = nn.Embedding(num_embeddings, embedding_dim)\n",
    "\n",
    "# 定义整数索引\n",
    "input_indices = torch.tensor([0, 2, 4])\n",
    "\n",
    "# 查找嵌入向量\n",
    "output = embedding(input_indices)\n",
    "\n",
    "# 打印结果\n",
    "print(\"权重矩阵：\")\n",
    "print(embedding.weight.data)\n",
    "print(\"\\nEmbedding 输出：\")\n",
    "print(output)\n"
   ]
  },
  {
   "cell_type": "markdown",
   "id": "0a397f47-238b-4792-ac79-d29ff3ad85d3",
   "metadata": {},
   "source": [
    "## `padding_idx` 的作用"
   ]
  },
  {
   "cell_type": "code",
   "execution_count": 2,
   "id": "5dcbc0c3-443b-43d7-b64f-ed672884d6f2",
   "metadata": {},
   "outputs": [
    {
     "name": "stdout",
     "output_type": "stream",
     "text": [
      "权重矩阵：\n",
      "tensor([[ 0.0000,  0.0000,  0.0000],\n",
      "        [-0.7658, -0.7506,  1.3525],\n",
      "        [ 0.6863, -0.3278,  0.7950],\n",
      "        [ 0.2815,  0.0562,  0.5227],\n",
      "        [-0.2384, -0.0499,  0.5263]])\n"
     ]
    }
   ],
   "source": [
    "import torch\n",
    "import torch.nn as nn\n",
    "\n",
    "# 定义嵌入层，指定 padding_idx=0\n",
    "embedding = nn.Embedding(num_embeddings=5, embedding_dim=3, padding_idx=0)\n",
    "\n",
    "# 打印权重矩阵\n",
    "print(\"权重矩阵：\")\n",
    "print(embedding.weight.data)"
   ]
  },
  {
   "cell_type": "markdown",
   "id": "3b770a15-389b-4b31-bb86-2ceabde92126",
   "metadata": {},
   "source": [
    "**验证 `padding_idx` 对应的嵌入是否在训练过程中保持不变**：\n"
   ]
  },
  {
   "cell_type": "code",
   "execution_count": 3,
   "id": "dda62291-7c57-4e84-a12f-d0cae4ccbbaa",
   "metadata": {},
   "outputs": [
    {
     "name": "stdout",
     "output_type": "stream",
     "text": [
      "梯度：\n",
      "tensor([[ 0.0000,  0.0000,  0.0000],\n",
      "        [ 0.0000,  0.0000,  0.0000],\n",
      "        [-0.0395,  0.1529,  0.3742],\n",
      "        [ 0.0000,  0.0000,  0.0000],\n",
      "        [-0.0863,  0.0353,  0.2030]])\n",
      "原权重矩阵：\n",
      "tensor([[ 0.0000,  0.0000,  0.0000],\n",
      "        [-0.7658, -0.7506,  1.3525],\n",
      "        [ 0.6863, -0.3278,  0.7950],\n",
      "        [ 0.2815,  0.0562,  0.5227],\n",
      "        [-0.2384, -0.0499,  0.5263]])\n",
      "权重矩阵更新后:\n",
      "tensor([[ 0.0000,  0.0000,  0.0000],\n",
      "        [-0.7658, -0.7506,  1.3525],\n",
      "        [ 0.6903, -0.3430,  0.7576],\n",
      "        [ 0.2815,  0.0562,  0.5227],\n",
      "        [-0.2297, -0.0534,  0.5060]])\n"
     ]
    }
   ],
   "source": [
    "import torch\n",
    "import torch.optim as optim\n",
    "\n",
    "# 注意之前设置了 padding_idx=0\n",
    "input_indices = torch.tensor([0, 2, 4])\n",
    "\n",
    "# 定义一个简单的损失函数\n",
    "loss_fn = nn.MSELoss()\n",
    "\n",
    "# 目标值\n",
    "target = torch.randn(3, 3)\n",
    "\n",
    "# 定义优化器\n",
    "optimizer = optim.SGD(embedding.parameters(), lr=0.1)\n",
    "\n",
    "# 清空之前的梯度\n",
    "optimizer.zero_grad()\n",
    "\n",
    "# 前向传播\n",
    "output = embedding(input_indices)\n",
    "\n",
    "# 计算损失\n",
    "loss = loss_fn(output, target)\n",
    "\n",
    "# 反向传播，注意此时不会更新权重\n",
    "loss.backward()\n",
    "\n",
    "# 查看梯度\n",
    "print(\"梯度：\")\n",
    "print(embedding.weight.grad)\n",
    "\n",
    "# 打印原权重矩阵\n",
    "print(\"原权重矩阵：\")\n",
    "print(embedding.weight.data)\n",
    "\n",
    "# 更新权重\n",
    "optimizer.step()\n",
    "\n",
    "# 打印权重矩阵更新后\n",
    "print(\"权重矩阵更新后:\")\n",
    "print(embedding.weight.data)"
   ]
  },
  {
   "cell_type": "markdown",
   "id": "498b10f1-8685-49a8-9954-52f78694c726",
   "metadata": {},
   "source": [
    "## 使用预训练的嵌入向量\n",
    "有时候，我们希望使用预训练的嵌入（如 GloVe、Word2Vec）来初始化嵌入层。这时候可以使用 `from_pretrained` 方法："
   ]
  },
  {
   "cell_type": "code",
   "execution_count": 4,
   "id": "9f11cb0b-927e-4de0-a82d-246402776b43",
   "metadata": {},
   "outputs": [
    {
     "name": "stdout",
     "output_type": "stream",
     "text": [
      "权重矩阵：\n",
      "tensor([[ 0.3367,  0.1288,  0.2345],\n",
      "        [ 0.2303, -1.1229, -0.1863],\n",
      "        [ 2.2082, -0.6380,  0.4617],\n",
      "        [ 0.2674,  0.5349,  0.8094],\n",
      "        [ 1.1103, -1.6898, -0.9890]])\n"
     ]
    },
    {
     "name": "stderr",
     "output_type": "stream",
     "text": [
      "/tmp/ipykernel_194008/4236655584.py:8: UserWarning: To copy construct from a tensor, it is recommended to use sourceTensor.clone().detach() or sourceTensor.clone().detach().requires_grad_(True), rather than torch.tensor(sourceTensor).\n",
      "  pretrained_embeddings = torch.tensor(torch.randn(5, 3))\n"
     ]
    }
   ],
   "source": [
    "import torch\n",
    "import torch.nn as nn\n",
    "\n",
    "# 设置随机种子以确保结果可复现\n",
    "torch.manual_seed(42)\n",
    "\n",
    "# 假设我们有一个预训练的嵌入矩阵，这里只是随机初始化\n",
    "pretrained_embeddings = torch.tensor(torch.randn(5, 3))\n",
    "\n",
    "# 使用 from_pretrained 方法创建嵌入层，不冻结权重层（默认冻结）\n",
    "embedding = nn.Embedding.from_pretrained(pretrained_embeddings, freeze=False)\n",
    "\n",
    "# 查看权重矩阵\n",
    "print(\"权重矩阵：\")\n",
    "print(embedding.weight.data)"
   ]
  },
  {
   "cell_type": "markdown",
   "id": "10a944cb-6fd2-4946-b72d-412278606b92",
   "metadata": {},
   "source": [
    "现在设置一下 `padding_idx`："
   ]
  },
  {
   "cell_type": "code",
   "execution_count": 5,
   "id": "0f5692e3-dfc1-40d4-916f-eee6b2061be3",
   "metadata": {},
   "outputs": [
    {
     "name": "stdout",
     "output_type": "stream",
     "text": [
      "权重矩阵：\n",
      "tensor([[ 0.3367,  0.1288,  0.2345],\n",
      "        [ 0.2303, -1.1229, -0.1863],\n",
      "        [ 2.2082, -0.6380,  0.4617],\n",
      "        [ 0.2674,  0.5349,  0.8094],\n",
      "        [ 1.1103, -1.6898, -0.9890]])\n"
     ]
    }
   ],
   "source": [
    "embedding = nn.Embedding.from_pretrained(pretrained_embeddings, freeze=False, padding_idx=0)\n",
    "\n",
    "# 查看权重矩阵\n",
    "print(\"权重矩阵：\")\n",
    "print(embedding.weight.data)"
   ]
  },
  {
   "cell_type": "markdown",
   "id": "0af460b8-76f1-4225-ba7f-68c23b969e33",
   "metadata": {},
   "source": [
    "**注意**：虽然指定了 `padding_idx=0`，但预训练的嵌入矩阵第 0 行不会自动变为零向量。"
   ]
  },
  {
   "cell_type": "markdown",
   "id": "a008de45-18a0-4d2b-a449-c53ecc0048c8",
   "metadata": {},
   "source": [
    "## 可视化"
   ]
  },
  {
   "cell_type": "markdown",
   "id": "8c556b20-2d6d-4ece-9cf6-9d85f7d39dc9",
   "metadata": {},
   "source": [
    "### 环境配置\n",
    "\n",
    "假设已经安装好了 PyTorch"
   ]
  },
  {
   "cell_type": "code",
   "execution_count": null,
   "id": "c63fef98-6494-44f0-ad73-b6f34bfe4f5a",
   "metadata": {},
   "outputs": [],
   "source": "!uv add transformers scikit-learn matplotlib seaborn"
  },
  {
   "cell_type": "markdown",
   "id": "2237de1e-6438-4214-8be6-bdb37e00b00b",
   "metadata": {},
   "source": [
    "### 完整代码"
   ]
  },
  {
   "cell_type": "code",
   "execution_count": 7,
   "id": "2ed89523-e69a-4e33-87e9-dd15f9ed7542",
   "metadata": {},
   "outputs": [
    {
     "data": {
      "image/png": "[encoded data removed]",
      "text/plain": [
       "<Figure size 1000x1000 with 1 Axes>"
      ]
     },
     "metadata": {},
     "output_type": "display_data"
    }
   ],
   "source": [
    "import torch\n",
    "from transformers import AutoTokenizer, AutoModel\n",
    "import matplotlib.pyplot as plt\n",
    "import numpy as np\n",
    "import seaborn as sns\n",
    "from sklearn.manifold import TSNE\n",
    "\n",
    "# 选择预训练的 BERT 模型\n",
    "model_name = 'bert-base-uncased'  # 对于中文模型，可使用 'bert-base-chinese'\n",
    "\n",
    "# 加载分词器和模型\n",
    "tokenizer = AutoTokenizer.from_pretrained(model_name)\n",
    "model = AutoModel.from_pretrained(model_name)\n",
    "\n",
    "# 要可视化的词语列表\n",
    "words = ['cat', 'dog', 'apple', 'orange', 'king', 'queen', 'man', 'woman']\n",
    "# words = ['猫', '狗', '苹果', '橙子', '国王', '王后', '男人', '女人']\n",
    "\n",
    "def get_input_embeddings(tokenizer, model, words):\n",
    "    # 获取词表中的索引\n",
    "    word_ids = [tokenizer.convert_tokens_to_ids(word) for word in words]\n",
    "    # 从嵌入层提取对应的向量\n",
    "    embeddings = model.embeddings.word_embeddings.weight[word_ids]\n",
    "    return embeddings.detach().numpy()\n",
    "\n",
    "def get_output_embeddings(tokenizer, model, words):\n",
    "    embeddings = []\n",
    "    for word in words:\n",
    "        inputs = tokenizer(word, return_tensors='pt')\n",
    "        outputs = model(**inputs)\n",
    "        # 获取 [CLS] 向量\n",
    "        cls_embedding = outputs.last_hidden_state[0][0]  # [CLS] 的向量\n",
    "        embeddings.append(cls_embedding.detach().numpy())\n",
    "    return np.array(embeddings)\n",
    "    \n",
    "# 获取输入嵌入向量\n",
    "embeddings = get_input_embeddings(tokenizer, model, words)\n",
    "\n",
    "# 降维处理\n",
    "tsne = TSNE(n_components=2, perplexity=2, n_iter=1000, random_state=42)\n",
    "embeddings_2d = tsne.fit_transform(embeddings)\n",
    "\n",
    "# 可视化\n",
    "plt.figure(figsize=(10, 10))\n",
    "sns.scatterplot(x=embeddings_2d[:, 0], y=embeddings_2d[:, 1])\n",
    "\n",
    "for i, word in enumerate(words):\n",
    "    plt.text(embeddings_2d[i, 0]+0.5, embeddings_2d[i, 1]+0.5, word)\n",
    "\n",
    "plt.title('Word Embeddings Visualized using t-SNE')\n",
    "plt.xlabel('Dimension 1')\n",
    "plt.ylabel('Dimension 2')\n",
    "plt.show()"
   ]
  },
  {
   "cell_type": "code",
   "execution_count": null,
   "id": "9005bf77-ae18-4239-83d2-a54328123c4e",
   "metadata": {},
   "outputs": [],
   "source": []
  }
 ],
 "metadata": {
  "kernelspec": {
   "display_name": "Python 3 (ipykernel)",
   "language": "python",
   "name": "python3"
  },
  "language_info": {
   "codemirror_mode": {
    "name": "ipython",
    "version": 3
   },
   "file_extension": ".py",
   "mimetype": "text/x-python",
   "name": "python",
   "nbconvert_exporter": "python",
   "pygments_lexer": "ipython3",
   "version": "3.9.16"
  }
 },
 "nbformat": 4,
 "nbformat_minor": 5
}